{
  "nbformat": 4,
  "nbformat_minor": 0,
  "metadata": {
    "colab": {
      "provenance": [],
      "mount_file_id": "1sGWWoUpAUrV5TmpA2s-AhCmvwHYkCqsm",
      "authorship_tag": "ABX9TyOWtW3hh54HU3fm9J7J/FiR",
      "include_colab_link": true
    },
    "kernelspec": {
      "name": "python3",
      "display_name": "Python 3"
    },
    "language_info": {
      "name": "python"
    }
  },
  "cells": [
    {
      "cell_type": "markdown",
      "metadata": {
        "id": "view-in-github",
        "colab_type": "text"
      },
      "source": [
        "<a href=\"https://colab.research.google.com/github/Avik-G/Transport-Demand-Prediction-Using-Regression/blob/main/Capstone_Project_2_Transport_Demand_Prediction.ipynb\" target=\"_parent\"><img src=\"https://colab.research.google.com/assets/colab-badge.svg\" alt=\"Open In Colab\"/></a>"
      ]
    },
    {
      "cell_type": "markdown",
      "source": [
        "#**Project Title : Traffic Jam: Predicting People's Movement into Nairobi**\n",
        "\n",
        "##**Problem Description**\n",
        "\n",
        "This challenge asks to build a model that predicts the number of seats that Mobiticket can expect to sell for each ride, i.e. for a specific route on a specific date and time. There are 14 routes in this dataset. All of the routes end in Nairobi and originate in towns to the North-West of Nairobi towards Lake Victoria.\n",
        "\n",
        "The towns from which these routes originate are:\n",
        "- Awendo\n",
        "- Homa Bay\n",
        "- Kehancha\n",
        "- Kendu Bay\n",
        "- Keroka\n",
        "- Keumbu\n",
        "- Kijauri\n",
        "- Kisii\n",
        "- Mbita\n",
        "- Migori\n",
        "- Ndhiwa\n",
        "- Nyachenge\n",
        "- Oyugis\n",
        "- Rodi\n",
        "- Rongo\n",
        "- Sirare\n",
        "- Sori\n",
        "\n",
        "**The routes from these 14 origins to the first stop in the outskirts of Nairobi takes approximately 8 to 9 hours from time of departure. From the first stop in the outskirts of Nairobi into the main bus terminal, where most passengers get off, in Central Business District, takes another 2 to 3 hours depending on traffic.**\n",
        "\n",
        "**The three stops that all these routes make in Nairobi (in order) are:**\n",
        "1. Kawangware: the first stop in the outskirts of Nairobi\n",
        "2. Westlands\n",
        "3. Afya Centre: the main bus terminal where most passengers disembark\n",
        "\n",
        "**All of these points are mapped here.**\n",
        "\n",
        "*Passengers of these bus (or shuttle) rides are affected by Nairobi traffic not only during their ride into the city, but from there they must continue their journey to their final destination in Nairobi wherever that may be. Traffic can act as a deterrent for those who have the option to avoid buses that arrive in Nairobi during peak traffic hours. On the other hand, traffic may be an indication for people’s movement patterns, reflecting business hours, cultural events, political events, and holidays.*\n",
        "\n",
        "**Data Description**\n",
        "\n",
        "**Nairobi Transport Data.csv (zipped) is the dataset of tickets purchased from Mobiticket for the 14 routes from “up country” into Nairobi between 17 October 2017 and 20 April 2018. This dataset includes the variables: ride_id, seat_number, payment_method, payment_receipt, travel_date, travel_time, travel_from, travel_to, car_type, max_capacity.**\n",
        "\n",
        "**Uber Movement traffic data can be accessed here. Data is available for Nairobi through June 2018. Uber Movement provided historic hourly travel time between any two points in Nairobi. Any tables that are extracted from the Uber Movement platform can be used in your model.**\n",
        "\n",
        "**Variables description:**\n",
        "- ride_id: unique ID of a vehicle on a specific route on a specific day and time.\n",
        "- seat_number: seat assigned to ticket\n",
        "- payment_method: method used by customer to purchase ticket from Mobiticket (cash or Mpesa)\n",
        "- payment_receipt: unique id number for ticket purchased from Mobiticket\n",
        "- travel_date: date of ride departure. (MM/DD/YYYY)\n",
        "- travel_time: scheduled departure time of ride. Rides generally depart on time. (hh:mm)\n",
        "- travel_from: town from which ride originated\n",
        "- travel_to: destination of ride. All rides are to Nairobi.\n",
        "- car_type: vehicle type (shuttle or bus)\n",
        "- max_capacity: number of seats on the vehicle"
      ],
      "metadata": {
        "id": "JFFQqmVfQDmz"
      }
    },
    {
      "cell_type": "code",
      "execution_count": 22,
      "metadata": {
        "id": "yHTFOGJLPbxT"
      },
      "outputs": [],
      "source": [
        "import numpy as np\n",
        "import pandas as pd\n",
        "import matplotlib.pyplot as plt\n",
        "%matplotlib inline\n",
        "import seaborn as sns\n",
        "import datetime"
      ]
    },
    {
      "cell_type": "code",
      "source": [
        "df_1=pd.read_csv('/content/drive/MyDrive/DS/ML_Regression/Transport Demand Prediction/train_revised.csv')"
      ],
      "metadata": {
        "id": "l7knGIQzPtIt"
      },
      "execution_count": 23,
      "outputs": []
    },
    {
      "cell_type": "code",
      "source": [
        "# checking Head of the Dataframe using .head() function\n",
        "df_1.head(5)"
      ],
      "metadata": {
        "colab": {
          "base_uri": "https://localhost:8080/",
          "height": 206
        },
        "id": "6KPx0BiSP425",
        "outputId": "db73d9c0-b19a-451b-ffde-94ef49d700f6"
      },
      "execution_count": 24,
      "outputs": [
        {
          "output_type": "execute_result",
          "data": {
            "text/plain": [
              "   ride_id seat_number payment_method payment_receipt travel_date travel_time  \\\n",
              "0     1442         15A          Mpesa      UZUEHCBUSO    17-10-17        7:15   \n",
              "1     5437         14A          Mpesa      TIHLBUSGTE    19-11-17        7:12   \n",
              "2     5710          8B          Mpesa      EQX8Q5G19O    26-11-17        7:05   \n",
              "3     5777         19A          Mpesa      SGP18CL0ME    27-11-17        7:10   \n",
              "4     5778         11A          Mpesa      BM97HFRGL9    27-11-17        7:12   \n",
              "\n",
              "  travel_from travel_to car_type  max_capacity  \n",
              "0      Migori   Nairobi      Bus            49  \n",
              "1      Migori   Nairobi      Bus            49  \n",
              "2      Keroka   Nairobi      Bus            49  \n",
              "3    Homa Bay   Nairobi      Bus            49  \n",
              "4      Migori   Nairobi      Bus            49  "
            ],
            "text/html": [
              "\n",
              "  <div id=\"df-3984dd4a-296c-4853-ad35-a71fdc5d18da\">\n",
              "    <div class=\"colab-df-container\">\n",
              "      <div>\n",
              "<style scoped>\n",
              "    .dataframe tbody tr th:only-of-type {\n",
              "        vertical-align: middle;\n",
              "    }\n",
              "\n",
              "    .dataframe tbody tr th {\n",
              "        vertical-align: top;\n",
              "    }\n",
              "\n",
              "    .dataframe thead th {\n",
              "        text-align: right;\n",
              "    }\n",
              "</style>\n",
              "<table border=\"1\" class=\"dataframe\">\n",
              "  <thead>\n",
              "    <tr style=\"text-align: right;\">\n",
              "      <th></th>\n",
              "      <th>ride_id</th>\n",
              "      <th>seat_number</th>\n",
              "      <th>payment_method</th>\n",
              "      <th>payment_receipt</th>\n",
              "      <th>travel_date</th>\n",
              "      <th>travel_time</th>\n",
              "      <th>travel_from</th>\n",
              "      <th>travel_to</th>\n",
              "      <th>car_type</th>\n",
              "      <th>max_capacity</th>\n",
              "    </tr>\n",
              "  </thead>\n",
              "  <tbody>\n",
              "    <tr>\n",
              "      <th>0</th>\n",
              "      <td>1442</td>\n",
              "      <td>15A</td>\n",
              "      <td>Mpesa</td>\n",
              "      <td>UZUEHCBUSO</td>\n",
              "      <td>17-10-17</td>\n",
              "      <td>7:15</td>\n",
              "      <td>Migori</td>\n",
              "      <td>Nairobi</td>\n",
              "      <td>Bus</td>\n",
              "      <td>49</td>\n",
              "    </tr>\n",
              "    <tr>\n",
              "      <th>1</th>\n",
              "      <td>5437</td>\n",
              "      <td>14A</td>\n",
              "      <td>Mpesa</td>\n",
              "      <td>TIHLBUSGTE</td>\n",
              "      <td>19-11-17</td>\n",
              "      <td>7:12</td>\n",
              "      <td>Migori</td>\n",
              "      <td>Nairobi</td>\n",
              "      <td>Bus</td>\n",
              "      <td>49</td>\n",
              "    </tr>\n",
              "    <tr>\n",
              "      <th>2</th>\n",
              "      <td>5710</td>\n",
              "      <td>8B</td>\n",
              "      <td>Mpesa</td>\n",
              "      <td>EQX8Q5G19O</td>\n",
              "      <td>26-11-17</td>\n",
              "      <td>7:05</td>\n",
              "      <td>Keroka</td>\n",
              "      <td>Nairobi</td>\n",
              "      <td>Bus</td>\n",
              "      <td>49</td>\n",
              "    </tr>\n",
              "    <tr>\n",
              "      <th>3</th>\n",
              "      <td>5777</td>\n",
              "      <td>19A</td>\n",
              "      <td>Mpesa</td>\n",
              "      <td>SGP18CL0ME</td>\n",
              "      <td>27-11-17</td>\n",
              "      <td>7:10</td>\n",
              "      <td>Homa Bay</td>\n",
              "      <td>Nairobi</td>\n",
              "      <td>Bus</td>\n",
              "      <td>49</td>\n",
              "    </tr>\n",
              "    <tr>\n",
              "      <th>4</th>\n",
              "      <td>5778</td>\n",
              "      <td>11A</td>\n",
              "      <td>Mpesa</td>\n",
              "      <td>BM97HFRGL9</td>\n",
              "      <td>27-11-17</td>\n",
              "      <td>7:12</td>\n",
              "      <td>Migori</td>\n",
              "      <td>Nairobi</td>\n",
              "      <td>Bus</td>\n",
              "      <td>49</td>\n",
              "    </tr>\n",
              "  </tbody>\n",
              "</table>\n",
              "</div>\n",
              "      <button class=\"colab-df-convert\" onclick=\"convertToInteractive('df-3984dd4a-296c-4853-ad35-a71fdc5d18da')\"\n",
              "              title=\"Convert this dataframe to an interactive table.\"\n",
              "              style=\"display:none;\">\n",
              "        \n",
              "  <svg xmlns=\"http://www.w3.org/2000/svg\" height=\"24px\"viewBox=\"0 0 24 24\"\n",
              "       width=\"24px\">\n",
              "    <path d=\"M0 0h24v24H0V0z\" fill=\"none\"/>\n",
              "    <path d=\"M18.56 5.44l.94 2.06.94-2.06 2.06-.94-2.06-.94-.94-2.06-.94 2.06-2.06.94zm-11 1L8.5 8.5l.94-2.06 2.06-.94-2.06-.94L8.5 2.5l-.94 2.06-2.06.94zm10 10l.94 2.06.94-2.06 2.06-.94-2.06-.94-.94-2.06-.94 2.06-2.06.94z\"/><path d=\"M17.41 7.96l-1.37-1.37c-.4-.4-.92-.59-1.43-.59-.52 0-1.04.2-1.43.59L10.3 9.45l-7.72 7.72c-.78.78-.78 2.05 0 2.83L4 21.41c.39.39.9.59 1.41.59.51 0 1.02-.2 1.41-.59l7.78-7.78 2.81-2.81c.8-.78.8-2.07 0-2.86zM5.41 20L4 18.59l7.72-7.72 1.47 1.35L5.41 20z\"/>\n",
              "  </svg>\n",
              "      </button>\n",
              "      \n",
              "  <style>\n",
              "    .colab-df-container {\n",
              "      display:flex;\n",
              "      flex-wrap:wrap;\n",
              "      gap: 12px;\n",
              "    }\n",
              "\n",
              "    .colab-df-convert {\n",
              "      background-color: #E8F0FE;\n",
              "      border: none;\n",
              "      border-radius: 50%;\n",
              "      cursor: pointer;\n",
              "      display: none;\n",
              "      fill: #1967D2;\n",
              "      height: 32px;\n",
              "      padding: 0 0 0 0;\n",
              "      width: 32px;\n",
              "    }\n",
              "\n",
              "    .colab-df-convert:hover {\n",
              "      background-color: #E2EBFA;\n",
              "      box-shadow: 0px 1px 2px rgba(60, 64, 67, 0.3), 0px 1px 3px 1px rgba(60, 64, 67, 0.15);\n",
              "      fill: #174EA6;\n",
              "    }\n",
              "\n",
              "    [theme=dark] .colab-df-convert {\n",
              "      background-color: #3B4455;\n",
              "      fill: #D2E3FC;\n",
              "    }\n",
              "\n",
              "    [theme=dark] .colab-df-convert:hover {\n",
              "      background-color: #434B5C;\n",
              "      box-shadow: 0px 1px 3px 1px rgba(0, 0, 0, 0.15);\n",
              "      filter: drop-shadow(0px 1px 2px rgba(0, 0, 0, 0.3));\n",
              "      fill: #FFFFFF;\n",
              "    }\n",
              "  </style>\n",
              "\n",
              "      <script>\n",
              "        const buttonEl =\n",
              "          document.querySelector('#df-3984dd4a-296c-4853-ad35-a71fdc5d18da button.colab-df-convert');\n",
              "        buttonEl.style.display =\n",
              "          google.colab.kernel.accessAllowed ? 'block' : 'none';\n",
              "\n",
              "        async function convertToInteractive(key) {\n",
              "          const element = document.querySelector('#df-3984dd4a-296c-4853-ad35-a71fdc5d18da');\n",
              "          const dataTable =\n",
              "            await google.colab.kernel.invokeFunction('convertToInteractive',\n",
              "                                                     [key], {});\n",
              "          if (!dataTable) return;\n",
              "\n",
              "          const docLinkHtml = 'Like what you see? Visit the ' +\n",
              "            '<a target=\"_blank\" href=https://colab.research.google.com/notebooks/data_table.ipynb>data table notebook</a>'\n",
              "            + ' to learn more about interactive tables.';\n",
              "          element.innerHTML = '';\n",
              "          dataTable['output_type'] = 'display_data';\n",
              "          await google.colab.output.renderOutput(dataTable, element);\n",
              "          const docLink = document.createElement('div');\n",
              "          docLink.innerHTML = docLinkHtml;\n",
              "          element.appendChild(docLink);\n",
              "        }\n",
              "      </script>\n",
              "    </div>\n",
              "  </div>\n",
              "  "
            ]
          },
          "metadata": {},
          "execution_count": 24
        }
      ]
    },
    {
      "cell_type": "markdown",
      "source": [
        "##**Data Pre Processing**"
      ],
      "metadata": {
        "id": "AFZs9zprP_yU"
      }
    },
    {
      "cell_type": "code",
      "source": [
        "# Checking information of d1_1\n",
        "df_1.info()"
      ],
      "metadata": {
        "colab": {
          "base_uri": "https://localhost:8080/"
        },
        "id": "vQVMiLyqP9Ju",
        "outputId": "f5ce3a9b-127a-487f-8d48-62b1cff346c1"
      },
      "execution_count": 25,
      "outputs": [
        {
          "output_type": "stream",
          "name": "stdout",
          "text": [
            "<class 'pandas.core.frame.DataFrame'>\n",
            "RangeIndex: 51645 entries, 0 to 51644\n",
            "Data columns (total 10 columns):\n",
            " #   Column           Non-Null Count  Dtype \n",
            "---  ------           --------------  ----- \n",
            " 0   ride_id          51645 non-null  int64 \n",
            " 1   seat_number      51645 non-null  object\n",
            " 2   payment_method   51645 non-null  object\n",
            " 3   payment_receipt  51645 non-null  object\n",
            " 4   travel_date      51645 non-null  object\n",
            " 5   travel_time      51645 non-null  object\n",
            " 6   travel_from      51645 non-null  object\n",
            " 7   travel_to        51645 non-null  object\n",
            " 8   car_type         51645 non-null  object\n",
            " 9   max_capacity     51645 non-null  int64 \n",
            "dtypes: int64(2), object(8)\n",
            "memory usage: 3.9+ MB\n"
          ]
        }
      ]
    },
    {
      "cell_type": "code",
      "source": [
        "# Checking rows and columns present in df_1\n",
        "df_1.shape"
      ],
      "metadata": {
        "colab": {
          "base_uri": "https://localhost:8080/"
        },
        "id": "4m1W9i4nQCZi",
        "outputId": "fd2d81ba-525d-4ef5-d177-c0c0c594b71a"
      },
      "execution_count": 5,
      "outputs": [
        {
          "output_type": "execute_result",
          "data": {
            "text/plain": [
              "(51645, 10)"
            ]
          },
          "metadata": {},
          "execution_count": 5
        }
      ]
    },
    {
      "cell_type": "code",
      "source": [
        "# Checking describtion of df_1 it gives count,mean,std,min etc\n",
        "df_1.describe()"
      ],
      "metadata": {
        "colab": {
          "base_uri": "https://localhost:8080/",
          "height": 301
        },
        "id": "JkG6ejsZSmad",
        "outputId": "a0c8993b-af8b-419c-beb9-a5f138528f5f"
      },
      "execution_count": 6,
      "outputs": [
        {
          "output_type": "execute_result",
          "data": {
            "text/plain": [
              "            ride_id  max_capacity\n",
              "count  51645.000000  51645.000000\n",
              "mean   10188.645793     34.534321\n",
              "std     2211.295708     18.451193\n",
              "min     1442.000000     11.000000\n",
              "25%     8287.000000     11.000000\n",
              "50%    10353.000000     49.000000\n",
              "75%    12029.000000     49.000000\n",
              "max    20117.000000     49.000000"
            ],
            "text/html": [
              "\n",
              "  <div id=\"df-40838c2e-c8c0-43b9-93d5-86175874c1c9\">\n",
              "    <div class=\"colab-df-container\">\n",
              "      <div>\n",
              "<style scoped>\n",
              "    .dataframe tbody tr th:only-of-type {\n",
              "        vertical-align: middle;\n",
              "    }\n",
              "\n",
              "    .dataframe tbody tr th {\n",
              "        vertical-align: top;\n",
              "    }\n",
              "\n",
              "    .dataframe thead th {\n",
              "        text-align: right;\n",
              "    }\n",
              "</style>\n",
              "<table border=\"1\" class=\"dataframe\">\n",
              "  <thead>\n",
              "    <tr style=\"text-align: right;\">\n",
              "      <th></th>\n",
              "      <th>ride_id</th>\n",
              "      <th>max_capacity</th>\n",
              "    </tr>\n",
              "  </thead>\n",
              "  <tbody>\n",
              "    <tr>\n",
              "      <th>count</th>\n",
              "      <td>51645.000000</td>\n",
              "      <td>51645.000000</td>\n",
              "    </tr>\n",
              "    <tr>\n",
              "      <th>mean</th>\n",
              "      <td>10188.645793</td>\n",
              "      <td>34.534321</td>\n",
              "    </tr>\n",
              "    <tr>\n",
              "      <th>std</th>\n",
              "      <td>2211.295708</td>\n",
              "      <td>18.451193</td>\n",
              "    </tr>\n",
              "    <tr>\n",
              "      <th>min</th>\n",
              "      <td>1442.000000</td>\n",
              "      <td>11.000000</td>\n",
              "    </tr>\n",
              "    <tr>\n",
              "      <th>25%</th>\n",
              "      <td>8287.000000</td>\n",
              "      <td>11.000000</td>\n",
              "    </tr>\n",
              "    <tr>\n",
              "      <th>50%</th>\n",
              "      <td>10353.000000</td>\n",
              "      <td>49.000000</td>\n",
              "    </tr>\n",
              "    <tr>\n",
              "      <th>75%</th>\n",
              "      <td>12029.000000</td>\n",
              "      <td>49.000000</td>\n",
              "    </tr>\n",
              "    <tr>\n",
              "      <th>max</th>\n",
              "      <td>20117.000000</td>\n",
              "      <td>49.000000</td>\n",
              "    </tr>\n",
              "  </tbody>\n",
              "</table>\n",
              "</div>\n",
              "      <button class=\"colab-df-convert\" onclick=\"convertToInteractive('df-40838c2e-c8c0-43b9-93d5-86175874c1c9')\"\n",
              "              title=\"Convert this dataframe to an interactive table.\"\n",
              "              style=\"display:none;\">\n",
              "        \n",
              "  <svg xmlns=\"http://www.w3.org/2000/svg\" height=\"24px\"viewBox=\"0 0 24 24\"\n",
              "       width=\"24px\">\n",
              "    <path d=\"M0 0h24v24H0V0z\" fill=\"none\"/>\n",
              "    <path d=\"M18.56 5.44l.94 2.06.94-2.06 2.06-.94-2.06-.94-.94-2.06-.94 2.06-2.06.94zm-11 1L8.5 8.5l.94-2.06 2.06-.94-2.06-.94L8.5 2.5l-.94 2.06-2.06.94zm10 10l.94 2.06.94-2.06 2.06-.94-2.06-.94-.94-2.06-.94 2.06-2.06.94z\"/><path d=\"M17.41 7.96l-1.37-1.37c-.4-.4-.92-.59-1.43-.59-.52 0-1.04.2-1.43.59L10.3 9.45l-7.72 7.72c-.78.78-.78 2.05 0 2.83L4 21.41c.39.39.9.59 1.41.59.51 0 1.02-.2 1.41-.59l7.78-7.78 2.81-2.81c.8-.78.8-2.07 0-2.86zM5.41 20L4 18.59l7.72-7.72 1.47 1.35L5.41 20z\"/>\n",
              "  </svg>\n",
              "      </button>\n",
              "      \n",
              "  <style>\n",
              "    .colab-df-container {\n",
              "      display:flex;\n",
              "      flex-wrap:wrap;\n",
              "      gap: 12px;\n",
              "    }\n",
              "\n",
              "    .colab-df-convert {\n",
              "      background-color: #E8F0FE;\n",
              "      border: none;\n",
              "      border-radius: 50%;\n",
              "      cursor: pointer;\n",
              "      display: none;\n",
              "      fill: #1967D2;\n",
              "      height: 32px;\n",
              "      padding: 0 0 0 0;\n",
              "      width: 32px;\n",
              "    }\n",
              "\n",
              "    .colab-df-convert:hover {\n",
              "      background-color: #E2EBFA;\n",
              "      box-shadow: 0px 1px 2px rgba(60, 64, 67, 0.3), 0px 1px 3px 1px rgba(60, 64, 67, 0.15);\n",
              "      fill: #174EA6;\n",
              "    }\n",
              "\n",
              "    [theme=dark] .colab-df-convert {\n",
              "      background-color: #3B4455;\n",
              "      fill: #D2E3FC;\n",
              "    }\n",
              "\n",
              "    [theme=dark] .colab-df-convert:hover {\n",
              "      background-color: #434B5C;\n",
              "      box-shadow: 0px 1px 3px 1px rgba(0, 0, 0, 0.15);\n",
              "      filter: drop-shadow(0px 1px 2px rgba(0, 0, 0, 0.3));\n",
              "      fill: #FFFFFF;\n",
              "    }\n",
              "  </style>\n",
              "\n",
              "      <script>\n",
              "        const buttonEl =\n",
              "          document.querySelector('#df-40838c2e-c8c0-43b9-93d5-86175874c1c9 button.colab-df-convert');\n",
              "        buttonEl.style.display =\n",
              "          google.colab.kernel.accessAllowed ? 'block' : 'none';\n",
              "\n",
              "        async function convertToInteractive(key) {\n",
              "          const element = document.querySelector('#df-40838c2e-c8c0-43b9-93d5-86175874c1c9');\n",
              "          const dataTable =\n",
              "            await google.colab.kernel.invokeFunction('convertToInteractive',\n",
              "                                                     [key], {});\n",
              "          if (!dataTable) return;\n",
              "\n",
              "          const docLinkHtml = 'Like what you see? Visit the ' +\n",
              "            '<a target=\"_blank\" href=https://colab.research.google.com/notebooks/data_table.ipynb>data table notebook</a>'\n",
              "            + ' to learn more about interactive tables.';\n",
              "          element.innerHTML = '';\n",
              "          dataTable['output_type'] = 'display_data';\n",
              "          await google.colab.output.renderOutput(dataTable, element);\n",
              "          const docLink = document.createElement('div');\n",
              "          docLink.innerHTML = docLinkHtml;\n",
              "          element.appendChild(docLink);\n",
              "        }\n",
              "      </script>\n",
              "    </div>\n",
              "  </div>\n",
              "  "
            ]
          },
          "metadata": {},
          "execution_count": 6
        }
      ]
    },
    {
      "cell_type": "code",
      "source": [
        "# Checking describtion of df_1 including all object data types\n",
        "df_1.describe(include = 'object')"
      ],
      "metadata": {
        "colab": {
          "base_uri": "https://localhost:8080/",
          "height": 175
        },
        "id": "1-nulFlBQEzY",
        "outputId": "01fe6d7c-e091-47fe-bce6-42ed69e233e2"
      },
      "execution_count": 9,
      "outputs": [
        {
          "output_type": "execute_result",
          "data": {
            "text/plain": [
              "       seat_number payment_method payment_receipt travel_date travel_time  \\\n",
              "count        51645          51645           51645       51645       51645   \n",
              "unique          61              2           51645         149          78   \n",
              "top              1          Mpesa      UZUEHCBUSO    10-12-17        7:09   \n",
              "freq          2065          51532               1         856        3926   \n",
              "\n",
              "       travel_from travel_to car_type  \n",
              "count        51645     51645    51645  \n",
              "unique          17         1        2  \n",
              "top          Kisii   Nairobi      Bus  \n",
              "freq         22607     51645    31985  "
            ],
            "text/html": [
              "\n",
              "  <div id=\"df-95ca993c-faba-4580-b689-f6481c022c1c\">\n",
              "    <div class=\"colab-df-container\">\n",
              "      <div>\n",
              "<style scoped>\n",
              "    .dataframe tbody tr th:only-of-type {\n",
              "        vertical-align: middle;\n",
              "    }\n",
              "\n",
              "    .dataframe tbody tr th {\n",
              "        vertical-align: top;\n",
              "    }\n",
              "\n",
              "    .dataframe thead th {\n",
              "        text-align: right;\n",
              "    }\n",
              "</style>\n",
              "<table border=\"1\" class=\"dataframe\">\n",
              "  <thead>\n",
              "    <tr style=\"text-align: right;\">\n",
              "      <th></th>\n",
              "      <th>seat_number</th>\n",
              "      <th>payment_method</th>\n",
              "      <th>payment_receipt</th>\n",
              "      <th>travel_date</th>\n",
              "      <th>travel_time</th>\n",
              "      <th>travel_from</th>\n",
              "      <th>travel_to</th>\n",
              "      <th>car_type</th>\n",
              "    </tr>\n",
              "  </thead>\n",
              "  <tbody>\n",
              "    <tr>\n",
              "      <th>count</th>\n",
              "      <td>51645</td>\n",
              "      <td>51645</td>\n",
              "      <td>51645</td>\n",
              "      <td>51645</td>\n",
              "      <td>51645</td>\n",
              "      <td>51645</td>\n",
              "      <td>51645</td>\n",
              "      <td>51645</td>\n",
              "    </tr>\n",
              "    <tr>\n",
              "      <th>unique</th>\n",
              "      <td>61</td>\n",
              "      <td>2</td>\n",
              "      <td>51645</td>\n",
              "      <td>149</td>\n",
              "      <td>78</td>\n",
              "      <td>17</td>\n",
              "      <td>1</td>\n",
              "      <td>2</td>\n",
              "    </tr>\n",
              "    <tr>\n",
              "      <th>top</th>\n",
              "      <td>1</td>\n",
              "      <td>Mpesa</td>\n",
              "      <td>UZUEHCBUSO</td>\n",
              "      <td>10-12-17</td>\n",
              "      <td>7:09</td>\n",
              "      <td>Kisii</td>\n",
              "      <td>Nairobi</td>\n",
              "      <td>Bus</td>\n",
              "    </tr>\n",
              "    <tr>\n",
              "      <th>freq</th>\n",
              "      <td>2065</td>\n",
              "      <td>51532</td>\n",
              "      <td>1</td>\n",
              "      <td>856</td>\n",
              "      <td>3926</td>\n",
              "      <td>22607</td>\n",
              "      <td>51645</td>\n",
              "      <td>31985</td>\n",
              "    </tr>\n",
              "  </tbody>\n",
              "</table>\n",
              "</div>\n",
              "      <button class=\"colab-df-convert\" onclick=\"convertToInteractive('df-95ca993c-faba-4580-b689-f6481c022c1c')\"\n",
              "              title=\"Convert this dataframe to an interactive table.\"\n",
              "              style=\"display:none;\">\n",
              "        \n",
              "  <svg xmlns=\"http://www.w3.org/2000/svg\" height=\"24px\"viewBox=\"0 0 24 24\"\n",
              "       width=\"24px\">\n",
              "    <path d=\"M0 0h24v24H0V0z\" fill=\"none\"/>\n",
              "    <path d=\"M18.56 5.44l.94 2.06.94-2.06 2.06-.94-2.06-.94-.94-2.06-.94 2.06-2.06.94zm-11 1L8.5 8.5l.94-2.06 2.06-.94-2.06-.94L8.5 2.5l-.94 2.06-2.06.94zm10 10l.94 2.06.94-2.06 2.06-.94-2.06-.94-.94-2.06-.94 2.06-2.06.94z\"/><path d=\"M17.41 7.96l-1.37-1.37c-.4-.4-.92-.59-1.43-.59-.52 0-1.04.2-1.43.59L10.3 9.45l-7.72 7.72c-.78.78-.78 2.05 0 2.83L4 21.41c.39.39.9.59 1.41.59.51 0 1.02-.2 1.41-.59l7.78-7.78 2.81-2.81c.8-.78.8-2.07 0-2.86zM5.41 20L4 18.59l7.72-7.72 1.47 1.35L5.41 20z\"/>\n",
              "  </svg>\n",
              "      </button>\n",
              "      \n",
              "  <style>\n",
              "    .colab-df-container {\n",
              "      display:flex;\n",
              "      flex-wrap:wrap;\n",
              "      gap: 12px;\n",
              "    }\n",
              "\n",
              "    .colab-df-convert {\n",
              "      background-color: #E8F0FE;\n",
              "      border: none;\n",
              "      border-radius: 50%;\n",
              "      cursor: pointer;\n",
              "      display: none;\n",
              "      fill: #1967D2;\n",
              "      height: 32px;\n",
              "      padding: 0 0 0 0;\n",
              "      width: 32px;\n",
              "    }\n",
              "\n",
              "    .colab-df-convert:hover {\n",
              "      background-color: #E2EBFA;\n",
              "      box-shadow: 0px 1px 2px rgba(60, 64, 67, 0.3), 0px 1px 3px 1px rgba(60, 64, 67, 0.15);\n",
              "      fill: #174EA6;\n",
              "    }\n",
              "\n",
              "    [theme=dark] .colab-df-convert {\n",
              "      background-color: #3B4455;\n",
              "      fill: #D2E3FC;\n",
              "    }\n",
              "\n",
              "    [theme=dark] .colab-df-convert:hover {\n",
              "      background-color: #434B5C;\n",
              "      box-shadow: 0px 1px 3px 1px rgba(0, 0, 0, 0.15);\n",
              "      filter: drop-shadow(0px 1px 2px rgba(0, 0, 0, 0.3));\n",
              "      fill: #FFFFFF;\n",
              "    }\n",
              "  </style>\n",
              "\n",
              "      <script>\n",
              "        const buttonEl =\n",
              "          document.querySelector('#df-95ca993c-faba-4580-b689-f6481c022c1c button.colab-df-convert');\n",
              "        buttonEl.style.display =\n",
              "          google.colab.kernel.accessAllowed ? 'block' : 'none';\n",
              "\n",
              "        async function convertToInteractive(key) {\n",
              "          const element = document.querySelector('#df-95ca993c-faba-4580-b689-f6481c022c1c');\n",
              "          const dataTable =\n",
              "            await google.colab.kernel.invokeFunction('convertToInteractive',\n",
              "                                                     [key], {});\n",
              "          if (!dataTable) return;\n",
              "\n",
              "          const docLinkHtml = 'Like what you see? Visit the ' +\n",
              "            '<a target=\"_blank\" href=https://colab.research.google.com/notebooks/data_table.ipynb>data table notebook</a>'\n",
              "            + ' to learn more about interactive tables.';\n",
              "          element.innerHTML = '';\n",
              "          dataTable['output_type'] = 'display_data';\n",
              "          await google.colab.output.renderOutput(dataTable, element);\n",
              "          const docLink = document.createElement('div');\n",
              "          docLink.innerHTML = docLinkHtml;\n",
              "          element.appendChild(docLink);\n",
              "        }\n",
              "      </script>\n",
              "    </div>\n",
              "  </div>\n",
              "  "
            ]
          },
          "metadata": {},
          "execution_count": 9
        }
      ]
    },
    {
      "cell_type": "code",
      "source": [
        "#Checking Null values\n",
        "df_1.isnull().sum()"
      ],
      "metadata": {
        "colab": {
          "base_uri": "https://localhost:8080/"
        },
        "id": "fwhqR2JoQGre",
        "outputId": "d7f90f5b-1fbc-4c99-8208-8ed0b424c485"
      },
      "execution_count": 8,
      "outputs": [
        {
          "output_type": "execute_result",
          "data": {
            "text/plain": [
              "ride_id            0\n",
              "seat_number        0\n",
              "payment_method     0\n",
              "payment_receipt    0\n",
              "travel_date        0\n",
              "travel_time        0\n",
              "travel_from        0\n",
              "travel_to          0\n",
              "car_type           0\n",
              "max_capacity       0\n",
              "dtype: int64"
            ]
          },
          "metadata": {},
          "execution_count": 8
        }
      ]
    },
    {
      "cell_type": "markdown",
      "source": [
        "##**Data Visualization**\n"
      ],
      "metadata": {
        "id": "QRUP--nwQVyJ"
      }
    },
    {
      "cell_type": "code",
      "source": [
        "plt.rcParams[\"figure.figsize\"] = [10, 5]"
      ],
      "metadata": {
        "id": "n_C00XFdQKFS"
      },
      "execution_count": 7,
      "outputs": []
    },
    {
      "cell_type": "code",
      "source": [
        "#Getting Insights of Data by plotting countplot\n",
        "plots_count_columns=['car_type','max_capacity','payment_method']\n",
        "for plots in plots_count_columns:\n",
        "    sns.countplot(x=plots, data=df_1)\n",
        "    plt.show()"
      ],
      "metadata": {
        "colab": {
          "base_uri": "https://localhost:8080/",
          "height": 1000
        },
        "id": "CT7bF8C6y21G",
        "outputId": "1d73345f-8754-43e5-e174-83bbc60f5465"
      },
      "execution_count": 27,
      "outputs": [
        {
          "output_type": "display_data",
          "data": {
            "text/plain": [
              "<Figure size 1000x500 with 1 Axes>"
            ],
            "image/png": "[encoded data removed]"
          },
          "metadata": {}
        },
        {
          "output_type": "display_data",
          "data": {
            "text/plain": [
              "<Figure size 1000x500 with 1 Axes>"
            ],
            "image/png": "[encoded data removed]"
          },
          "metadata": {}
        },
        {
          "output_type": "display_data",
          "data": {
            "text/plain": [
              "<Figure size 1000x500 with 1 Axes>"
            ],
            "image/png": "[encoded data removed]"
          },
          "metadata": {}
        }
      ]
    },
    {
      "cell_type": "markdown",
      "source": [
        "\n",
        "Inference:\n",
        "\n",
        "- There are two type of cars . The most used is Bus with Maximun capacity of 49.\n",
        "- There are two modes of payments Mpesa and Cash. The most used is Mpesa."
      ],
      "metadata": {
        "id": "Hp9LLI3yTWQL"
      }
    },
    {
      "cell_type": "code",
      "source": [
        "#plotting Histplot and Boxplot graphs"
      ],
      "metadata": {
        "id": "Rh0O9r4aQnNZ"
      },
      "execution_count": null,
      "outputs": []
    },
    {
      "cell_type": "code",
      "source": [
        "fig, axes = plt.subplots(1,2,figsize=(10,5))\n",
        "sns.histplot(df_1['ride_id'], kde= True, ax=axes[0])\n",
        "sns.boxplot(df_1['ride_id'], ax=axes[1])"
      ],
      "metadata": {
        "colab": {
          "base_uri": "https://localhost:8080/",
          "height": 352
        },
        "id": "XJNKnqUrQ8E3",
        "outputId": "8c1faa30-260f-4e7e-91f6-3a51048fa6e2"
      },
      "execution_count": null,
      "outputs": [
        {
          "output_type": "execute_result",
          "data": {
            "text/plain": [
              "<Axes: >"
            ]
          },
          "metadata": {},
          "execution_count": 112
        },
        {
          "output_type": "display_data",
          "data": {
            "text/plain": [
              "<Figure size 720x360 with 2 Axes>"
            ],
            "image/png": "[encoded data removed]"
          },
          "metadata": {
            "needs_background": "light"
          }
        }
      ]
    },
    {
      "cell_type": "code",
      "source": [
        "fig, axes = plt.subplots(1,2,figsize=(10,5))\n",
        "sns.histplot(df_1['max_capacity'],kde = True, ax=axes[0])\n",
        "sns.boxplot(df_1['max_capacity'], ax=axes[1])"
      ],
      "metadata": {
        "colab": {
          "base_uri": "https://localhost:8080/",
          "height": 352
        },
        "id": "aMU4o0O7Q96J",
        "outputId": "e003895e-aa6f-48ac-bf0c-a4559cb06fe2"
      },
      "execution_count": null,
      "outputs": [
        {
          "output_type": "execute_result",
          "data": {
            "text/plain": [
              "<Axes: >"
            ]
          },
          "metadata": {},
          "execution_count": 113
        },
        {
          "output_type": "display_data",
          "data": {
            "text/plain": [
              "<Figure size 720x360 with 2 Axes>"
            ],
            "image/png": "[encoded data removed]"
          },
          "metadata": {
            "needs_background": "light"
          }
        }
      ]
    },
    {
      "cell_type": "markdown",
      "source": [
        "Inference: Maximum Capacity of Bus is 49"
      ],
      "metadata": {
        "id": "ilnZSOqhTcvS"
      }
    },
    {
      "cell_type": "code",
      "source": [
        "#Plotting countplot to count max values\n",
        "df_1['travel_from'].value_counts().plot(kind = 'bar', figsize =(15,5), color = 'r')\n",
        "plt.ylabel('Count of Origin Points', fontsize = 15)\n",
        "plt.xlabel('Points of Origin', fontsize = 15)\n",
        "plt.xticks()\n",
        "plt.title('Frequency of Travel from a Point of Origin', fontsize = 20)\n",
        "plt.show\n"
      ],
      "metadata": {
        "colab": {
          "base_uri": "https://localhost:8080/",
          "height": 423
        },
        "id": "SBm7ao9DScPK",
        "outputId": "133d099f-9494-4116-886b-6135f115aa16"
      },
      "execution_count": null,
      "outputs": [
        {
          "output_type": "execute_result",
          "data": {
            "text/plain": [
              "<function matplotlib.pyplot.show(close=None, block=None)>"
            ]
          },
          "metadata": {},
          "execution_count": 114
        },
        {
          "output_type": "display_data",
          "data": {
            "text/plain": [
              "<Figure size 1080x360 with 1 Axes>"
            ],
            "image/png": "[encoded data removed]"
          },
          "metadata": {
            "needs_background": "light"
          }
        }
      ]
    },
    {
      "cell_type": "markdown",
      "source": [
        "Inference: Maximum People travelling from Kissi"
      ],
      "metadata": {
        "id": "7QTyBz-aU0SS"
      }
    },
    {
      "cell_type": "code",
      "source": [
        "df_1['travel_time'].value_counts().plot.barh(figsize=(15,20), color = 'g')\n",
        "plt.ylabel('Travel Times', fontsize = 15)\n",
        "plt.xlabel('Count of Times', fontsize = 15)\n",
        "plt.xticks()\n",
        "plt.title('Frequency of Travel Times', fontsize = 20)\n",
        "plt.show()"
      ],
      "metadata": {
        "colab": {
          "base_uri": "https://localhost:8080/",
          "height": 1000
        },
        "id": "NXwsVhd1TxIC",
        "outputId": "c6810c00-887d-4c86-8066-b45c54660974"
      },
      "execution_count": null,
      "outputs": [
        {
          "output_type": "display_data",
          "data": {
            "text/plain": [
              "<Figure size 1080x1440 with 1 Axes>"
            ],
            "image/png": "[encoded data removed]"
          },
          "metadata": {
            "needs_background": "light"
          }
        }
      ]
    },
    {
      "cell_type": "code",
      "source": [
        "# Grouping the ride_id and seat_numbers to get Targetvariable"
      ],
      "metadata": {
        "id": "aSBOn-deSeCR"
      },
      "execution_count": null,
      "outputs": []
    },
    {
      "cell_type": "code",
      "source": [
        "target=df_1.groupby(['ride_id']).seat_number.count().rename('Tickets').reset_index()\n",
        "target=target.drop_duplicates('ride_id')"
      ],
      "metadata": {
        "id": "CAOfGgB0Tqtp"
      },
      "execution_count": null,
      "outputs": []
    },
    {
      "cell_type": "code",
      "source": [
        "#Mergging data using leftjoin"
      ],
      "metadata": {
        "id": "pdnQ6-MMTyti"
      },
      "execution_count": null,
      "outputs": []
    },
    {
      "cell_type": "code",
      "source": [
        "df=df_1.merge(target,how='left',on='ride_id')"
      ],
      "metadata": {
        "id": "QqzIRAolT05w"
      },
      "execution_count": null,
      "outputs": []
    },
    {
      "cell_type": "code",
      "source": [
        "df.head(5)"
      ],
      "metadata": {
        "colab": {
          "base_uri": "https://localhost:8080/",
          "height": 206
        },
        "id": "wg4LVGEZVXmY",
        "outputId": "8f16f32b-99ed-4a72-86d4-ed1dafacb68a"
      },
      "execution_count": null,
      "outputs": [
        {
          "output_type": "execute_result",
          "data": {
            "text/plain": [
              "   ride_id seat_number payment_method payment_receipt travel_date travel_time  \\\n",
              "0     1442         15A          Mpesa      UZUEHCBUSO    17-10-17        7:15   \n",
              "1     5437         14A          Mpesa      TIHLBUSGTE    19-11-17        7:12   \n",
              "2     5710          8B          Mpesa      EQX8Q5G19O    26-11-17        7:05   \n",
              "3     5777         19A          Mpesa      SGP18CL0ME    27-11-17        7:10   \n",
              "4     5778         11A          Mpesa      BM97HFRGL9    27-11-17        7:12   \n",
              "\n",
              "  travel_from travel_to car_type  max_capacity  Tickets  \n",
              "0      Migori   Nairobi      Bus            49        1  \n",
              "1      Migori   Nairobi      Bus            49        1  \n",
              "2      Keroka   Nairobi      Bus            49        1  \n",
              "3    Homa Bay   Nairobi      Bus            49        5  \n",
              "4      Migori   Nairobi      Bus            49       31  "
            ],
            "text/html": [
              "\n",
              "  <div id=\"df-2d7f8ca4-b7ee-478e-b41c-ecc39d7e486d\">\n",
              "    <div class=\"colab-df-container\">\n",
              "      <div>\n",
              "<style scoped>\n",
              "    .dataframe tbody tr th:only-of-type {\n",
              "        vertical-align: middle;\n",
              "    }\n",
              "\n",
              "    .dataframe tbody tr th {\n",
              "        vertical-align: top;\n",
              "    }\n",
              "\n",
              "    .dataframe thead th {\n",
              "        text-align: right;\n",
              "    }\n",
              "</style>\n",
              "<table border=\"1\" class=\"dataframe\">\n",
              "  <thead>\n",
              "    <tr style=\"text-align: right;\">\n",
              "      <th></th>\n",
              "      <th>ride_id</th>\n",
              "      <th>seat_number</th>\n",
              "      <th>payment_method</th>\n",
              "      <th>payment_receipt</th>\n",
              "      <th>travel_date</th>\n",
              "      <th>travel_time</th>\n",
              "      <th>travel_from</th>\n",
              "      <th>travel_to</th>\n",
              "      <th>car_type</th>\n",
              "      <th>max_capacity</th>\n",
              "      <th>Tickets</th>\n",
              "    </tr>\n",
              "  </thead>\n",
              "  <tbody>\n",
              "    <tr>\n",
              "      <th>0</th>\n",
              "      <td>1442</td>\n",
              "      <td>15A</td>\n",
              "      <td>Mpesa</td>\n",
              "      <td>UZUEHCBUSO</td>\n",
              "      <td>17-10-17</td>\n",
              "      <td>7:15</td>\n",
              "      <td>Migori</td>\n",
              "      <td>Nairobi</td>\n",
              "      <td>Bus</td>\n",
              "      <td>49</td>\n",
              "      <td>1</td>\n",
              "    </tr>\n",
              "    <tr>\n",
              "      <th>1</th>\n",
              "      <td>5437</td>\n",
              "      <td>14A</td>\n",
              "      <td>Mpesa</td>\n",
              "      <td>TIHLBUSGTE</td>\n",
              "      <td>19-11-17</td>\n",
              "      <td>7:12</td>\n",
              "      <td>Migori</td>\n",
              "      <td>Nairobi</td>\n",
              "      <td>Bus</td>\n",
              "      <td>49</td>\n",
              "      <td>1</td>\n",
              "    </tr>\n",
              "    <tr>\n",
              "      <th>2</th>\n",
              "      <td>5710</td>\n",
              "      <td>8B</td>\n",
              "      <td>Mpesa</td>\n",
              "      <td>EQX8Q5G19O</td>\n",
              "      <td>26-11-17</td>\n",
              "      <td>7:05</td>\n",
              "      <td>Keroka</td>\n",
              "      <td>Nairobi</td>\n",
              "      <td>Bus</td>\n",
              "      <td>49</td>\n",
              "      <td>1</td>\n",
              "    </tr>\n",
              "    <tr>\n",
              "      <th>3</th>\n",
              "      <td>5777</td>\n",
              "      <td>19A</td>\n",
              "      <td>Mpesa</td>\n",
              "      <td>SGP18CL0ME</td>\n",
              "      <td>27-11-17</td>\n",
              "      <td>7:10</td>\n",
              "      <td>Homa Bay</td>\n",
              "      <td>Nairobi</td>\n",
              "      <td>Bus</td>\n",
              "      <td>49</td>\n",
              "      <td>5</td>\n",
              "    </tr>\n",
              "    <tr>\n",
              "      <th>4</th>\n",
              "      <td>5778</td>\n",
              "      <td>11A</td>\n",
              "      <td>Mpesa</td>\n",
              "      <td>BM97HFRGL9</td>\n",
              "      <td>27-11-17</td>\n",
              "      <td>7:12</td>\n",
              "      <td>Migori</td>\n",
              "      <td>Nairobi</td>\n",
              "      <td>Bus</td>\n",
              "      <td>49</td>\n",
              "      <td>31</td>\n",
              "    </tr>\n",
              "  </tbody>\n",
              "</table>\n",
              "</div>\n",
              "      <button class=\"colab-df-convert\" onclick=\"convertToInteractive('df-2d7f8ca4-b7ee-478e-b41c-ecc39d7e486d')\"\n",
              "              title=\"Convert this dataframe to an interactive table.\"\n",
              "              style=\"display:none;\">\n",
              "        \n",
              "  <svg xmlns=\"http://www.w3.org/2000/svg\" height=\"24px\"viewBox=\"0 0 24 24\"\n",
              "       width=\"24px\">\n",
              "    <path d=\"M0 0h24v24H0V0z\" fill=\"none\"/>\n",
              "    <path d=\"M18.56 5.44l.94 2.06.94-2.06 2.06-.94-2.06-.94-.94-2.06-.94 2.06-2.06.94zm-11 1L8.5 8.5l.94-2.06 2.06-.94-2.06-.94L8.5 2.5l-.94 2.06-2.06.94zm10 10l.94 2.06.94-2.06 2.06-.94-2.06-.94-.94-2.06-.94 2.06-2.06.94z\"/><path d=\"M17.41 7.96l-1.37-1.37c-.4-.4-.92-.59-1.43-.59-.52 0-1.04.2-1.43.59L10.3 9.45l-7.72 7.72c-.78.78-.78 2.05 0 2.83L4 21.41c.39.39.9.59 1.41.59.51 0 1.02-.2 1.41-.59l7.78-7.78 2.81-2.81c.8-.78.8-2.07 0-2.86zM5.41 20L4 18.59l7.72-7.72 1.47 1.35L5.41 20z\"/>\n",
              "  </svg>\n",
              "      </button>\n",
              "      \n",
              "  <style>\n",
              "    .colab-df-container {\n",
              "      display:flex;\n",
              "      flex-wrap:wrap;\n",
              "      gap: 12px;\n",
              "    }\n",
              "\n",
              "    .colab-df-convert {\n",
              "      background-color: #E8F0FE;\n",
              "      border: none;\n",
              "      border-radius: 50%;\n",
              "      cursor: pointer;\n",
              "      display: none;\n",
              "      fill: #1967D2;\n",
              "      height: 32px;\n",
              "      padding: 0 0 0 0;\n",
              "      width: 32px;\n",
              "    }\n",
              "\n",
              "    .colab-df-convert:hover {\n",
              "      background-color: #E2EBFA;\n",
              "      box-shadow: 0px 1px 2px rgba(60, 64, 67, 0.3), 0px 1px 3px 1px rgba(60, 64, 67, 0.15);\n",
              "      fill: #174EA6;\n",
              "    }\n",
              "\n",
              "    [theme=dark] .colab-df-convert {\n",
              "      background-color: #3B4455;\n",
              "      fill: #D2E3FC;\n",
              "    }\n",
              "\n",
              "    [theme=dark] .colab-df-convert:hover {\n",
              "      background-color: #434B5C;\n",
              "      box-shadow: 0px 1px 3px 1px rgba(0, 0, 0, 0.15);\n",
              "      filter: drop-shadow(0px 1px 2px rgba(0, 0, 0, 0.3));\n",
              "      fill: #FFFFFF;\n",
              "    }\n",
              "  </style>\n",
              "\n",
              "      <script>\n",
              "        const buttonEl =\n",
              "          document.querySelector('#df-2d7f8ca4-b7ee-478e-b41c-ecc39d7e486d button.colab-df-convert');\n",
              "        buttonEl.style.display =\n",
              "          google.colab.kernel.accessAllowed ? 'block' : 'none';\n",
              "\n",
              "        async function convertToInteractive(key) {\n",
              "          const element = document.querySelector('#df-2d7f8ca4-b7ee-478e-b41c-ecc39d7e486d');\n",
              "          const dataTable =\n",
              "            await google.colab.kernel.invokeFunction('convertToInteractive',\n",
              "                                                     [key], {});\n",
              "          if (!dataTable) return;\n",
              "\n",
              "          const docLinkHtml = 'Like what you see? Visit the ' +\n",
              "            '<a target=\"_blank\" href=https://colab.research.google.com/notebooks/data_table.ipynb>data table notebook</a>'\n",
              "            + ' to learn more about interactive tables.';\n",
              "          element.innerHTML = '';\n",
              "          dataTable['output_type'] = 'display_data';\n",
              "          await google.colab.output.renderOutput(dataTable, element);\n",
              "          const docLink = document.createElement('div');\n",
              "          docLink.innerHTML = docLinkHtml;\n",
              "          element.appendChild(docLink);\n",
              "        }\n",
              "      </script>\n",
              "    </div>\n",
              "  </div>\n",
              "  "
            ]
          },
          "metadata": {},
          "execution_count": 120
        }
      ]
    },
    {
      "cell_type": "code",
      "source": [
        "  #plotting barplot \n",
        "plt.figure(figsize=(18,8))\n",
        "sp=sns.barplot(x='travel_from',y='Tickets',data=df)"
      ],
      "metadata": {
        "colab": {
          "base_uri": "https://localhost:8080/",
          "height": 498
        },
        "id": "H7ZoG40UT29N",
        "outputId": "eeee4bd7-bf89-44b9-cc8d-9ef082ede0a4"
      },
      "execution_count": null,
      "outputs": [
        {
          "output_type": "display_data",
          "data": {
            "text/plain": [
              "<Figure size 1080x576 with 1 Axes>"
            ],
            "image/png": "[encoded data removed]"
          },
          "metadata": {
            "needs_background": "light"
          }
        }
      ]
    },
    {
      "cell_type": "markdown",
      "source": [
        "Inference: Maximum Tickets were from Sirare"
      ],
      "metadata": {
        "id": "vOWjOSa1U_-7"
      }
    },
    {
      "cell_type": "code",
      "source": [
        "# Dropping the columns not required"
      ],
      "metadata": {
        "id": "w5yFOUvNT4t9"
      },
      "execution_count": null,
      "outputs": []
    },
    {
      "cell_type": "code",
      "source": [
        "df = df.drop(['seat_number','payment_method','payment_receipt'], axis=1)"
      ],
      "metadata": {
        "id": "yFFjF2LjT9w-"
      },
      "execution_count": null,
      "outputs": []
    },
    {
      "cell_type": "code",
      "source": [
        "df.columns"
      ],
      "metadata": {
        "colab": {
          "base_uri": "https://localhost:8080/"
        },
        "id": "Ful0mBcqUAAS",
        "outputId": "b9b2fdc4-efbf-4d21-d3c8-9936182862f1"
      },
      "execution_count": null,
      "outputs": [
        {
          "output_type": "execute_result",
          "data": {
            "text/plain": [
              "Index(['ride_id', 'travel_date', 'travel_time', 'travel_from', 'travel_to',\n",
              "       'car_type', 'max_capacity', 'Tickets'],\n",
              "      dtype='object')"
            ]
          },
          "metadata": {},
          "execution_count": 124
        }
      ]
    },
    {
      "cell_type": "code",
      "source": [
        "df.drop(['travel_to'],axis=1,inplace=True)"
      ],
      "metadata": {
        "id": "e7JpdiUMUBtd"
      },
      "execution_count": null,
      "outputs": []
    },
    {
      "cell_type": "markdown",
      "source": [
        "## **Feature Engineering**"
      ],
      "metadata": {
        "id": "_PbYBGw1dxqY"
      }
    },
    {
      "cell_type": "code",
      "source": [
        "# concatinate travel date and travel time column and make a new feature called date."
      ],
      "metadata": {
        "id": "V9kX1KG8UD50"
      },
      "execution_count": null,
      "outputs": []
    },
    {
      "cell_type": "code",
      "source": [
        "df['date']=df['travel_date']+\" \"+df['travel_time']\n",
        "def  time_feature(data):\n",
        "\n",
        "  ''' This function takes dataframe as an argument and extracts the different features\n",
        "       from the data variable ofthe dataset and finally returns the updated dataset'''\n",
        "  df['date']=pd.to_datetime(df['date'])\n",
        "  df['day_of_week']=df['date'].dt.dayofweek\n",
        "  df['day_of_year']=df['date'].dt.dayofyear\n",
        "  df['day_of_month']=df['date'].dt.day\n",
        "  df[\"year_woy\"]=df[\"date\"].dt.year.astype(str)+df[\"date\"].dt.weekofyear.astype(str)\n",
        "  df[\"hour\"]=df[\"date\"].dt.hour\n",
        "  df[\"minute\"]=df[\"date\"].dt.minute\n",
        "  df[\"is_weekend\"]=df[\"day_of_week\"].apply( lambda x : 1 if x  in [5,6] else 0 )\n",
        "  df[\"year\"]=df[\"date\"].dt.year\n",
        "  df[\"quarter\"]=df[\"date\"].dt.quarter\n",
        "  df[\"month\"]=df[\"date\"].dt.month\n",
        "  return data"
      ],
      "metadata": {
        "id": "egfCZELpUF6v"
      },
      "execution_count": null,
      "outputs": []
    },
    {
      "cell_type": "code",
      "source": [
        "df_new = time_feature(df)"
      ],
      "metadata": {
        "colab": {
          "base_uri": "https://localhost:8080/"
        },
        "id": "LZEbUZszUHdm",
        "outputId": "fa1ae858-ff3a-4fed-8617-d173d72eac14"
      },
      "execution_count": null,
      "outputs": [
        {
          "output_type": "stream",
          "name": "stderr",
          "text": [
            "<ipython-input-127-48552a3e6a41>:10: FutureWarning: Series.dt.weekofyear and Series.dt.week have been deprecated. Please use Series.dt.isocalendar().week instead.\n",
            "  df[\"year_woy\"]=df[\"date\"].dt.year.astype(str)+df[\"date\"].dt.weekofyear.astype(str)\n"
          ]
        }
      ]
    },
    {
      "cell_type": "code",
      "source": [
        "# checking information of new data frame df_new"
      ],
      "metadata": {
        "id": "kYxu1OGMUJof"
      },
      "execution_count": null,
      "outputs": []
    },
    {
      "cell_type": "code",
      "source": [
        "df_new.info()"
      ],
      "metadata": {
        "colab": {
          "base_uri": "https://localhost:8080/"
        },
        "id": "74YJzH--UNTA",
        "outputId": "43b36298-e824-4866-eaf7-f1524c83638a"
      },
      "execution_count": null,
      "outputs": [
        {
          "output_type": "stream",
          "name": "stdout",
          "text": [
            "<class 'pandas.core.frame.DataFrame'>\n",
            "Int64Index: 51645 entries, 0 to 51644\n",
            "Data columns (total 18 columns):\n",
            " #   Column        Non-Null Count  Dtype         \n",
            "---  ------        --------------  -----         \n",
            " 0   ride_id       51645 non-null  int64         \n",
            " 1   travel_date   51645 non-null  object        \n",
            " 2   travel_time   51645 non-null  object        \n",
            " 3   travel_from   51645 non-null  object        \n",
            " 4   car_type      51645 non-null  object        \n",
            " 5   max_capacity  51645 non-null  int64         \n",
            " 6   Tickets       51645 non-null  int64         \n",
            " 7   date          51645 non-null  datetime64[ns]\n",
            " 8   day_of_week   51645 non-null  int64         \n",
            " 9   day_of_year   51645 non-null  int64         \n",
            " 10  day_of_month  51645 non-null  int64         \n",
            " 11  year_woy      51645 non-null  object        \n",
            " 12  hour          51645 non-null  int64         \n",
            " 13  minute        51645 non-null  int64         \n",
            " 14  is_weekend    51645 non-null  int64         \n",
            " 15  year          51645 non-null  int64         \n",
            " 16  quarter       51645 non-null  int64         \n",
            " 17  month         51645 non-null  int64         \n",
            "dtypes: datetime64[ns](1), int64(12), object(5)\n",
            "memory usage: 7.5+ MB\n"
          ]
        }
      ]
    },
    {
      "cell_type": "code",
      "source": [
        "plt.figure(figsize=(15,8))\n",
        "sns.barplot(x='day_of_month',y='Tickets',data=df_new)"
      ],
      "metadata": {
        "colab": {
          "base_uri": "https://localhost:8080/",
          "height": 515
        },
        "id": "vk_yPQubUOsZ",
        "outputId": "5d494127-dbed-4682-bb7c-4a645b340b3b"
      },
      "execution_count": null,
      "outputs": [
        {
          "output_type": "execute_result",
          "data": {
            "text/plain": [
              "<Axes: xlabel='day_of_month', ylabel='Tickets'>"
            ]
          },
          "metadata": {},
          "execution_count": 131
        },
        {
          "output_type": "display_data",
          "data": {
            "text/plain": [
              "<Figure size 1080x576 with 1 Axes>"
            ],
            "image/png": "[encoded data removed]"
          },
          "metadata": {
            "needs_background": "light"
          }
        }
      ]
    },
    {
      "cell_type": "markdown",
      "source": [
        "- It is observed that there is a gap between day 5 and day 11 of the month. We can  assume that public transports are not available in these days.\n",
        "- The average frequency of tickets are stable through out the month."
      ],
      "metadata": {
        "id": "5kwxSjwoeII0"
      }
    },
    {
      "cell_type": "code",
      "source": [
        "plt.figure(figsize=(15, 8))\n",
        "\n",
        "sns.scatterplot(x='hour', y=\"Tickets\", data=df_new)"
      ],
      "metadata": {
        "colab": {
          "base_uri": "https://localhost:8080/",
          "height": 514
        },
        "id": "SQBxXHQAURl1",
        "outputId": "8f5809a2-8a72-44c6-9225-bbd11e7d8c48"
      },
      "execution_count": null,
      "outputs": [
        {
          "output_type": "execute_result",
          "data": {
            "text/plain": [
              "<Axes: xlabel='hour', ylabel='Tickets'>"
            ]
          },
          "metadata": {},
          "execution_count": 132
        },
        {
          "output_type": "display_data",
          "data": {
            "text/plain": [
              "<Figure size 1080x576 with 1 Axes>"
            ],
            "image/png": "[encoded data removed]"
          },
          "metadata": {
            "needs_background": "light"
          }
        }
      ]
    },
    {
      "cell_type": "markdown",
      "source": [
        "Inference:\n",
        "\n",
        "- We can see that most of the ticktes were sold at 7:00 AM and 8:00 PM. And that seems true because in the morning most of the people go to work and in the evenings they return from office.\n",
        "\n",
        "- From the above we can say that there is no ride available between 12pm to 5:30Pm"
      ],
      "metadata": {
        "id": "3Sx5wp90UaQD"
      }
    },
    {
      "cell_type": "code",
      "source": [
        "# Replacing Categorical Values to Numerical Values"
      ],
      "metadata": {
        "id": "7Z0eLVNFUWVW"
      },
      "execution_count": null,
      "outputs": []
    },
    {
      "cell_type": "code",
      "source": [
        "df_new['car_type'].replace(['Bus', 'shuttle'],\n",
        "                        [0, 1], inplace=True)"
      ],
      "metadata": {
        "id": "mdL15ILHUcU6"
      },
      "execution_count": null,
      "outputs": []
    },
    {
      "cell_type": "code",
      "source": [
        "df_new['travel_from'].unique()"
      ],
      "metadata": {
        "colab": {
          "base_uri": "https://localhost:8080/"
        },
        "id": "U1w71lc5Udzw",
        "outputId": "cff26bd7-1349-4a2f-e4ff-5d2d2504ca26"
      },
      "execution_count": null,
      "outputs": [
        {
          "output_type": "execute_result",
          "data": {
            "text/plain": [
              "array(['Migori', 'Keroka', 'Homa Bay', 'Kisii', 'Keumbu', 'Rongo',\n",
              "       'Kijauri', 'Oyugis', 'Awendo', 'Sirare', 'Nyachenge', 'Kehancha',\n",
              "       'Kendu Bay', 'Sori', 'Rodi', 'Mbita', 'Ndhiwa'], dtype=object)"
            ]
          },
          "metadata": {},
          "execution_count": 135
        }
      ]
    },
    {
      "cell_type": "code",
      "source": [
        "# Replacing Categorical values to numerical values"
      ],
      "metadata": {
        "id": "HhLWCC0rUfR-"
      },
      "execution_count": null,
      "outputs": []
    },
    {
      "cell_type": "code",
      "source": [
        "df_new[\"travel_from\"].replace(['Migori', 'Keroka', 'Homa Bay', 'Kisii', 'Keumbu', 'Rongo',\n",
        "       'Kijauri', 'Oyugis', 'Awendo', 'Sirare', 'Nyachenge', 'Kehancha',\n",
        "       'Kendu Bay', 'Sori', 'Rodi', 'Mbita', 'Ndhiwa'],[0,1,2,3,4,5,6,7,8,9,10,11,12,13,14,15,16],inplace=True)"
      ],
      "metadata": {
        "id": "48CzBe7gUh77"
      },
      "execution_count": null,
      "outputs": []
    },
    {
      "cell_type": "code",
      "source": [
        "# create variables columns not required and dropping few columns"
      ],
      "metadata": {
        "id": "5U9y9zkAUl2d"
      },
      "execution_count": null,
      "outputs": []
    },
    {
      "cell_type": "code",
      "source": [
        "notreq = [\"travel_date\",\"travel_time\",\"car_type\",\"year_woy\"]"
      ],
      "metadata": {
        "id": "Sxin55eEUoBT"
      },
      "execution_count": null,
      "outputs": []
    },
    {
      "cell_type": "code",
      "source": [
        "df_new.drop(columns = \"travel_date\",inplace= True)"
      ],
      "metadata": {
        "id": "5Pi2uNLHUpeD"
      },
      "execution_count": null,
      "outputs": []
    },
    {
      "cell_type": "code",
      "source": [
        "df_new.drop(columns = \"travel_time\",inplace= True)"
      ],
      "metadata": {
        "id": "YujRtBXjUrY6"
      },
      "execution_count": null,
      "outputs": []
    },
    {
      "cell_type": "code",
      "source": [
        "  df_new.drop(columns = \"year_woy\",inplace= True)"
      ],
      "metadata": {
        "id": "MYHN9WR0UtiO"
      },
      "execution_count": null,
      "outputs": []
    },
    {
      "cell_type": "code",
      "source": [
        "\n",
        "df_new.info()"
      ],
      "metadata": {
        "colab": {
          "base_uri": "https://localhost:8080/"
        },
        "id": "TOp1HiB_UxAS",
        "outputId": "88b85741-1185-495f-dd30-8110c1105dbb"
      },
      "execution_count": null,
      "outputs": [
        {
          "output_type": "stream",
          "name": "stdout",
          "text": [
            "<class 'pandas.core.frame.DataFrame'>\n",
            "Int64Index: 51645 entries, 0 to 51644\n",
            "Data columns (total 15 columns):\n",
            " #   Column        Non-Null Count  Dtype         \n",
            "---  ------        --------------  -----         \n",
            " 0   ride_id       51645 non-null  int64         \n",
            " 1   travel_from   51645 non-null  int64         \n",
            " 2   car_type      51645 non-null  int64         \n",
            " 3   max_capacity  51645 non-null  int64         \n",
            " 4   Tickets       51645 non-null  int64         \n",
            " 5   date          51645 non-null  datetime64[ns]\n",
            " 6   day_of_week   51645 non-null  int64         \n",
            " 7   day_of_year   51645 non-null  int64         \n",
            " 8   day_of_month  51645 non-null  int64         \n",
            " 9   hour          51645 non-null  int64         \n",
            " 10  minute        51645 non-null  int64         \n",
            " 11  is_weekend    51645 non-null  int64         \n",
            " 12  year          51645 non-null  int64         \n",
            " 13  quarter       51645 non-null  int64         \n",
            " 14  month         51645 non-null  int64         \n",
            "dtypes: datetime64[ns](1), int64(14)\n",
            "memory usage: 6.3 MB\n"
          ]
        }
      ]
    },
    {
      "cell_type": "code",
      "source": [
        "df_new.head(5)"
      ],
      "metadata": {
        "colab": {
          "base_uri": "https://localhost:8080/",
          "height": 206
        },
        "id": "YkvGJwUBUyZl",
        "outputId": "b43d230a-bf39-4e2c-caea-0992189f1530"
      },
      "execution_count": null,
      "outputs": [
        {
          "output_type": "execute_result",
          "data": {
            "text/plain": [
              "   ride_id  travel_from  car_type  max_capacity  Tickets                date  \\\n",
              "0     1442            0         0            49        1 2017-10-17 07:15:00   \n",
              "1     5437            0         0            49        1 2017-11-19 07:12:00   \n",
              "2     5710            1         0            49        1 2017-11-26 07:05:00   \n",
              "3     5777            2         0            49        5 2017-11-27 07:10:00   \n",
              "4     5778            0         0            49       31 2017-11-27 07:12:00   \n",
              "\n",
              "   day_of_week  day_of_year  day_of_month  hour  minute  is_weekend  year  \\\n",
              "0            1          290            17     7      15           0  2017   \n",
              "1            6          323            19     7      12           1  2017   \n",
              "2            6          330            26     7       5           1  2017   \n",
              "3            0          331            27     7      10           0  2017   \n",
              "4            0          331            27     7      12           0  2017   \n",
              "\n",
              "   quarter  month  \n",
              "0        4     10  \n",
              "1        4     11  \n",
              "2        4     11  \n",
              "3        4     11  \n",
              "4        4     11  "
            ],
            "text/html": [
              "\n",
              "  <div id=\"df-87344ade-adfc-47f9-aed3-8cbfb8065316\">\n",
              "    <div class=\"colab-df-container\">\n",
              "      <div>\n",
              "<style scoped>\n",
              "    .dataframe tbody tr th:only-of-type {\n",
              "        vertical-align: middle;\n",
              "    }\n",
              "\n",
              "    .dataframe tbody tr th {\n",
              "        vertical-align: top;\n",
              "    }\n",
              "\n",
              "    .dataframe thead th {\n",
              "        text-align: right;\n",
              "    }\n",
              "</style>\n",
              "<table border=\"1\" class=\"dataframe\">\n",
              "  <thead>\n",
              "    <tr style=\"text-align: right;\">\n",
              "      <th></th>\n",
              "      <th>ride_id</th>\n",
              "      <th>travel_from</th>\n",
              "      <th>car_type</th>\n",
              "      <th>max_capacity</th>\n",
              "      <th>Tickets</th>\n",
              "      <th>date</th>\n",
              "      <th>day_of_week</th>\n",
              "      <th>day_of_year</th>\n",
              "      <th>day_of_month</th>\n",
              "      <th>hour</th>\n",
              "      <th>minute</th>\n",
              "      <th>is_weekend</th>\n",
              "      <th>year</th>\n",
              "      <th>quarter</th>\n",
              "      <th>month</th>\n",
              "    </tr>\n",
              "  </thead>\n",
              "  <tbody>\n",
              "    <tr>\n",
              "      <th>0</th>\n",
              "      <td>1442</td>\n",
              "      <td>0</td>\n",
              "      <td>0</td>\n",
              "      <td>49</td>\n",
              "      <td>1</td>\n",
              "      <td>2017-10-17 07:15:00</td>\n",
              "      <td>1</td>\n",
              "      <td>290</td>\n",
              "      <td>17</td>\n",
              "      <td>7</td>\n",
              "      <td>15</td>\n",
              "      <td>0</td>\n",
              "      <td>2017</td>\n",
              "      <td>4</td>\n",
              "      <td>10</td>\n",
              "    </tr>\n",
              "    <tr>\n",
              "      <th>1</th>\n",
              "      <td>5437</td>\n",
              "      <td>0</td>\n",
              "      <td>0</td>\n",
              "      <td>49</td>\n",
              "      <td>1</td>\n",
              "      <td>2017-11-19 07:12:00</td>\n",
              "      <td>6</td>\n",
              "      <td>323</td>\n",
              "      <td>19</td>\n",
              "      <td>7</td>\n",
              "      <td>12</td>\n",
              "      <td>1</td>\n",
              "      <td>2017</td>\n",
              "      <td>4</td>\n",
              "      <td>11</td>\n",
              "    </tr>\n",
              "    <tr>\n",
              "      <th>2</th>\n",
              "      <td>5710</td>\n",
              "      <td>1</td>\n",
              "      <td>0</td>\n",
              "      <td>49</td>\n",
              "      <td>1</td>\n",
              "      <td>2017-11-26 07:05:00</td>\n",
              "      <td>6</td>\n",
              "      <td>330</td>\n",
              "      <td>26</td>\n",
              "      <td>7</td>\n",
              "      <td>5</td>\n",
              "      <td>1</td>\n",
              "      <td>2017</td>\n",
              "      <td>4</td>\n",
              "      <td>11</td>\n",
              "    </tr>\n",
              "    <tr>\n",
              "      <th>3</th>\n",
              "      <td>5777</td>\n",
              "      <td>2</td>\n",
              "      <td>0</td>\n",
              "      <td>49</td>\n",
              "      <td>5</td>\n",
              "      <td>2017-11-27 07:10:00</td>\n",
              "      <td>0</td>\n",
              "      <td>331</td>\n",
              "      <td>27</td>\n",
              "      <td>7</td>\n",
              "      <td>10</td>\n",
              "      <td>0</td>\n",
              "      <td>2017</td>\n",
              "      <td>4</td>\n",
              "      <td>11</td>\n",
              "    </tr>\n",
              "    <tr>\n",
              "      <th>4</th>\n",
              "      <td>5778</td>\n",
              "      <td>0</td>\n",
              "      <td>0</td>\n",
              "      <td>49</td>\n",
              "      <td>31</td>\n",
              "      <td>2017-11-27 07:12:00</td>\n",
              "      <td>0</td>\n",
              "      <td>331</td>\n",
              "      <td>27</td>\n",
              "      <td>7</td>\n",
              "      <td>12</td>\n",
              "      <td>0</td>\n",
              "      <td>2017</td>\n",
              "      <td>4</td>\n",
              "      <td>11</td>\n",
              "    </tr>\n",
              "  </tbody>\n",
              "</table>\n",
              "</div>\n",
              "      <button class=\"colab-df-convert\" onclick=\"convertToInteractive('df-87344ade-adfc-47f9-aed3-8cbfb8065316')\"\n",
              "              title=\"Convert this dataframe to an interactive table.\"\n",
              "              style=\"display:none;\">\n",
              "        \n",
              "  <svg xmlns=\"http://www.w3.org/2000/svg\" height=\"24px\"viewBox=\"0 0 24 24\"\n",
              "       width=\"24px\">\n",
              "    <path d=\"M0 0h24v24H0V0z\" fill=\"none\"/>\n",
              "    <path d=\"M18.56 5.44l.94 2.06.94-2.06 2.06-.94-2.06-.94-.94-2.06-.94 2.06-2.06.94zm-11 1L8.5 8.5l.94-2.06 2.06-.94-2.06-.94L8.5 2.5l-.94 2.06-2.06.94zm10 10l.94 2.06.94-2.06 2.06-.94-2.06-.94-.94-2.06-.94 2.06-2.06.94z\"/><path d=\"M17.41 7.96l-1.37-1.37c-.4-.4-.92-.59-1.43-.59-.52 0-1.04.2-1.43.59L10.3 9.45l-7.72 7.72c-.78.78-.78 2.05 0 2.83L4 21.41c.39.39.9.59 1.41.59.51 0 1.02-.2 1.41-.59l7.78-7.78 2.81-2.81c.8-.78.8-2.07 0-2.86zM5.41 20L4 18.59l7.72-7.72 1.47 1.35L5.41 20z\"/>\n",
              "  </svg>\n",
              "      </button>\n",
              "      \n",
              "  <style>\n",
              "    .colab-df-container {\n",
              "      display:flex;\n",
              "      flex-wrap:wrap;\n",
              "      gap: 12px;\n",
              "    }\n",
              "\n",
              "    .colab-df-convert {\n",
              "      background-color: #E8F0FE;\n",
              "      border: none;\n",
              "      border-radius: 50%;\n",
              "      cursor: pointer;\n",
              "      display: none;\n",
              "      fill: #1967D2;\n",
              "      height: 32px;\n",
              "      padding: 0 0 0 0;\n",
              "      width: 32px;\n",
              "    }\n",
              "\n",
              "    .colab-df-convert:hover {\n",
              "      background-color: #E2EBFA;\n",
              "      box-shadow: 0px 1px 2px rgba(60, 64, 67, 0.3), 0px 1px 3px 1px rgba(60, 64, 67, 0.15);\n",
              "      fill: #174EA6;\n",
              "    }\n",
              "\n",
              "    [theme=dark] .colab-df-convert {\n",
              "      background-color: #3B4455;\n",
              "      fill: #D2E3FC;\n",
              "    }\n",
              "\n",
              "    [theme=dark] .colab-df-convert:hover {\n",
              "      background-color: #434B5C;\n",
              "      box-shadow: 0px 1px 3px 1px rgba(0, 0, 0, 0.15);\n",
              "      filter: drop-shadow(0px 1px 2px rgba(0, 0, 0, 0.3));\n",
              "      fill: #FFFFFF;\n",
              "    }\n",
              "  </style>\n",
              "\n",
              "      <script>\n",
              "        const buttonEl =\n",
              "          document.querySelector('#df-87344ade-adfc-47f9-aed3-8cbfb8065316 button.colab-df-convert');\n",
              "        buttonEl.style.display =\n",
              "          google.colab.kernel.accessAllowed ? 'block' : 'none';\n",
              "\n",
              "        async function convertToInteractive(key) {\n",
              "          const element = document.querySelector('#df-87344ade-adfc-47f9-aed3-8cbfb8065316');\n",
              "          const dataTable =\n",
              "            await google.colab.kernel.invokeFunction('convertToInteractive',\n",
              "                                                     [key], {});\n",
              "          if (!dataTable) return;\n",
              "\n",
              "          const docLinkHtml = 'Like what you see? Visit the ' +\n",
              "            '<a target=\"_blank\" href=https://colab.research.google.com/notebooks/data_table.ipynb>data table notebook</a>'\n",
              "            + ' to learn more about interactive tables.';\n",
              "          element.innerHTML = '';\n",
              "          dataTable['output_type'] = 'display_data';\n",
              "          await google.colab.output.renderOutput(dataTable, element);\n",
              "          const docLink = document.createElement('div');\n",
              "          docLink.innerHTML = docLinkHtml;\n",
              "          element.appendChild(docLink);\n",
              "        }\n",
              "      </script>\n",
              "    </div>\n",
              "  </div>\n",
              "  "
            ]
          },
          "metadata": {},
          "execution_count": 144
        }
      ]
    },
    {
      "cell_type": "code",
      "source": [
        "# useing heatmap for findding correlation"
      ],
      "metadata": {
        "id": "fFI5NxHdU33E"
      },
      "execution_count": null,
      "outputs": []
    },
    {
      "cell_type": "code",
      "source": [
        "\n",
        "corr_data = df_new.corr(method = 'pearson')\n",
        "plt.figure(figsize = (15,10))\n",
        "dataplot = sns.heatmap(corr_data,  annot=True)\n",
        "plt.show()"
      ],
      "metadata": {
        "colab": {
          "base_uri": "https://localhost:8080/",
          "height": 656
        },
        "id": "9reOYuPIU916",
        "outputId": "1a6ccbf4-cb2c-46d0-daf4-21958494ead7"
      },
      "execution_count": null,
      "outputs": [
        {
          "output_type": "display_data",
          "data": {
            "text/plain": [
              "<Figure size 1080x720 with 2 Axes>"
            ],
            "image/png": "[encoded data removed]"
          },
          "metadata": {
            "needs_background": "light"
          }
        }
      ]
    },
    {
      "cell_type": "code",
      "source": [
        "df_new.drop(columns = \"date\",axis=1,inplace= True)"
      ],
      "metadata": {
        "id": "F4Zz_k4WVc9U"
      },
      "execution_count": null,
      "outputs": []
    },
    {
      "cell_type": "code",
      "source": [
        "from sklearn import metrics\n",
        "import math\n",
        "from sklearn.model_selection import train_test_split\n",
        "from sklearn.ensemble import GradientBoostingRegressor\n",
        "from sklearn.metrics import mean_absolute_error, mean_squared_error,r2_score\n",
        "import math\n",
        "from xgboost import XGBRegressor\n",
        "from sklearn.model_selection import GridSearchCV\n",
        "from sklearn.model_selection import RandomizedSearchCV\n",
        "from sklearn.linear_model import LinearRegression\n",
        "from sklearn.metrics import r2_score"
      ],
      "metadata": {
        "id": "ijo6CmCxV3bN"
      },
      "execution_count": null,
      "outputs": []
    },
    {
      "cell_type": "code",
      "source": [
        "#Getting X and Y variable\n",
        "dependent_variable = 'Tickets'\n",
        "independent_variables = list(set(df_new.columns.tolist()) - {dependent_variable})\n",
        "\n",
        "\n"
      ],
      "metadata": {
        "id": "oDNT2jExXUJM"
      },
      "execution_count": null,
      "outputs": []
    },
    {
      "cell_type": "code",
      "source": [
        "X = df_new[independent_variables].values\n",
        "y = df_new[dependent_variable].values\n",
        "X_train, X_test, y_train, y_test = train_test_split(X,y,test_size=0.20, random_state=42)"
      ],
      "metadata": {
        "id": "ekWkauRBXdIO"
      },
      "execution_count": null,
      "outputs": []
    },
    {
      "cell_type": "code",
      "source": [
        "from sklearn.preprocessing import MinMaxScaler"
      ],
      "metadata": {
        "id": "WhVWtl9EXiga"
      },
      "execution_count": null,
      "outputs": []
    },
    {
      "cell_type": "code",
      "source": [
        "scaler = MinMaxScaler()\n",
        "X_train = scaler.fit_transform(X_train)\n",
        "X_test = scaler.transform(X_test)"
      ],
      "metadata": {
        "id": "8W99J3jzXksH"
      },
      "execution_count": null,
      "outputs": []
    },
    {
      "cell_type": "code",
      "source": [
        "regressor = LinearRegression()\n",
        "regressor.fit(X_train, y_train)\n",
        "regressor.intercept_\n",
        "regressor.coef_\n",
        "y_pred_train = regressor.predict(X_train)\n",
        "y_pred = regressor.predict(X_test)"
      ],
      "metadata": {
        "id": "RD0JlgXGXmjX"
      },
      "execution_count": null,
      "outputs": []
    },
    {
      "cell_type": "code",
      "source": [
        "# Intercept Values\n",
        "regressor.intercept_"
      ],
      "metadata": {
        "colab": {
          "base_uri": "https://localhost:8080/"
        },
        "id": "pcu0crgOXobj",
        "outputId": "1c3d250c-82a1-409d-a89b-33ba09270954"
      },
      "execution_count": null,
      "outputs": [
        {
          "output_type": "execute_result",
          "data": {
            "text/plain": [
              "12.480237032965855"
            ]
          },
          "metadata": {},
          "execution_count": 154
        }
      ]
    },
    {
      "cell_type": "code",
      "source": [
        "# Coefficent Values\n",
        "regressor.coef_"
      ],
      "metadata": {
        "colab": {
          "base_uri": "https://localhost:8080/"
        },
        "id": "tcb9H3GXXq5o",
        "outputId": "976eeaf9-bb2d-430f-e0f4-2807d57e58b8"
      },
      "execution_count": null,
      "outputs": [
        {
          "output_type": "execute_result",
          "data": {
            "text/plain": [
              "array([-27.35396735, -14.21706244,   0.72051997,   0.27439579,\n",
              "        -2.84224641,   4.86157487,  19.31801018,   6.79013669,\n",
              "         0.3325694 ,   1.06984518,  29.71356111,  -1.10049992,\n",
              "        -6.79013669])"
            ]
          },
          "metadata": {},
          "execution_count": 155
        }
      ]
    },
    {
      "cell_type": "code",
      "source": [
        "# Mean Square Error \n",
        "mean_squared_error(y_test, y_pred)"
      ],
      "metadata": {
        "colab": {
          "base_uri": "https://localhost:8080/"
        },
        "id": "_jO4icdxXssH",
        "outputId": "bc17a3b6-cc26-4bb2-8445-12091c6fedb2"
      },
      "execution_count": null,
      "outputs": [
        {
          "output_type": "execute_result",
          "data": {
            "text/plain": [
              "94.20727224093356"
            ]
          },
          "metadata": {},
          "execution_count": 156
        }
      ]
    },
    {
      "cell_type": "code",
      "source": [
        "#R2 Score values for train and test split\n",
        "r2_score(y_train, y_pred_train)"
      ],
      "metadata": {
        "colab": {
          "base_uri": "https://localhost:8080/"
        },
        "id": "GKfY7XxrXu91",
        "outputId": "6f66e4b5-c7de-43dd-9461-fb7a82797503"
      },
      "execution_count": null,
      "outputs": [
        {
          "output_type": "execute_result",
          "data": {
            "text/plain": [
              "0.37718620690754867"
            ]
          },
          "metadata": {},
          "execution_count": 157
        }
      ]
    },
    {
      "cell_type": "code",
      "source": [
        "r2_score(y_test, y_pred)"
      ],
      "metadata": {
        "colab": {
          "base_uri": "https://localhost:8080/"
        },
        "id": "tyRYhMoBX-F9",
        "outputId": "177a1ace-72fa-49f3-8627-d3c169b8c1bd"
      },
      "execution_count": null,
      "outputs": [
        {
          "output_type": "execute_result",
          "data": {
            "text/plain": [
              "0.3835700377411465"
            ]
          },
          "metadata": {},
          "execution_count": 158
        }
      ]
    },
    {
      "cell_type": "code",
      "source": [
        "print(\"Adjusted R2 : \",1-(1-r2_score(y_test, y_pred))*((X_test.shape[0]-1)/(X_test.shape[0]-X_test.shape[1]-1)))"
      ],
      "metadata": {
        "colab": {
          "base_uri": "https://localhost:8080/"
        },
        "id": "blP9fNTfYCu2",
        "outputId": "b9942434-47ba-4186-88b1-12e05d13dcca"
      },
      "execution_count": null,
      "outputs": [
        {
          "output_type": "stream",
          "name": "stdout",
          "text": [
            "Adjusted R2 :  0.3827931507310287\n"
          ]
        }
      ]
    },
    {
      "cell_type": "code",
      "source": [
        "# Implementing Lasso Regressor for Minimizing Error for quantitative response variable"
      ],
      "metadata": {
        "id": "6KBjVU8LYG_-"
      },
      "execution_count": null,
      "outputs": []
    },
    {
      "cell_type": "code",
      "source": [
        "from sklearn.linear_model import Lasso"
      ],
      "metadata": {
        "id": "B5M00rR8YKqR"
      },
      "execution_count": null,
      "outputs": []
    },
    {
      "cell_type": "code",
      "source": [
        "X = df_new[independent_variables].values\n",
        "y = df_new[dependent_variable].values\n",
        "X_train, X_test, y_train, y_test = train_test_split(X,y,test_size=0.20, random_state=42)\n",
        "\n",
        "alphas = [0.01,0.025,0.5,0.75,1]\n",
        "for alpha in alphas:\n",
        "  lasso  = Lasso(alpha=alpha , max_iter= 3000)\n",
        "  lasso.fit(X_train, y_train)\n",
        "  print('alpha: ',alpha)\n",
        "  print('test Score: ',lasso.score(X_test, y_test))\n",
        "  print('train Score: ',lasso.score(X_train, y_train))"
      ],
      "metadata": {
        "colab": {
          "base_uri": "https://localhost:8080/"
        },
        "id": "Gv5GNkfKYNHI",
        "outputId": "066a74d0-2903-42f9-af2d-46c253e40529"
      },
      "execution_count": null,
      "outputs": [
        {
          "output_type": "stream",
          "name": "stdout",
          "text": [
            "alpha:  0.01\n",
            "test Score:  0.3834101873683916\n",
            "train Score:  0.3771325929056283\n",
            "alpha:  0.025\n",
            "test Score:  0.3830941114109182\n",
            "train Score:  0.3770110920866686\n",
            "alpha:  0.5\n",
            "test Score:  0.381555084255942\n",
            "train Score:  0.37551250730591756\n",
            "alpha:  0.75\n",
            "test Score:  0.3808933752351875\n",
            "train Score:  0.37488630148303315\n",
            "alpha:  1\n",
            "test Score:  0.37998855590584457\n",
            "train Score:  0.37401339765994457\n"
          ]
        }
      ]
    },
    {
      "cell_type": "code",
      "source": [
        "# Best Alpha and Max_iter Values"
      ],
      "metadata": {
        "id": "sk_IbHrxYPwH"
      },
      "execution_count": null,
      "outputs": []
    },
    {
      "cell_type": "code",
      "source": [
        "lasso  = Lasso(alpha=0.01 , max_iter= 3000)\n",
        "lasso.fit(X_train, y_train)"
      ],
      "metadata": {
        "colab": {
          "base_uri": "https://localhost:8080/",
          "height": 75
        },
        "id": "KXhGMxDiYUjb",
        "outputId": "e0bb6f85-608a-4eba-994e-42cfecccda0a"
      },
      "execution_count": null,
      "outputs": [
        {
          "output_type": "execute_result",
          "data": {
            "text/plain": [
              "Lasso(alpha=0.01, max_iter=3000)"
            ],
            "text/html": [
              "<style>#sk-container-id-4 {color: black;background-color: white;}#sk-container-id-4 pre{padding: 0;}#sk-container-id-4 div.sk-toggleable {background-color: white;}#sk-container-id-4 label.sk-toggleable__label {cursor: pointer;display: block;width: 100%;margin-bottom: 0;padding: 0.3em;box-sizing: border-box;text-align: center;}#sk-container-id-4 label.sk-toggleable__label-arrow:before {content: \"▸\";float: left;margin-right: 0.25em;color: #696969;}#sk-container-id-4 label.sk-toggleable__label-arrow:hover:before {color: black;}#sk-container-id-4 div.sk-estimator:hover label.sk-toggleable__label-arrow:before {color: black;}#sk-container-id-4 div.sk-toggleable__content {max-height: 0;max-width: 0;overflow: hidden;text-align: left;background-color: #f0f8ff;}#sk-container-id-4 div.sk-toggleable__content pre {margin: 0.2em;color: black;border-radius: 0.25em;background-color: #f0f8ff;}#sk-container-id-4 input.sk-toggleable__control:checked~div.sk-toggleable__content {max-height: 200px;max-width: 100%;overflow: auto;}#sk-container-id-4 input.sk-toggleable__control:checked~label.sk-toggleable__label-arrow:before {content: \"▾\";}#sk-container-id-4 div.sk-estimator input.sk-toggleable__control:checked~label.sk-toggleable__label {background-color: #d4ebff;}#sk-container-id-4 div.sk-label input.sk-toggleable__control:checked~label.sk-toggleable__label {background-color: #d4ebff;}#sk-container-id-4 input.sk-hidden--visually {border: 0;clip: rect(1px 1px 1px 1px);clip: rect(1px, 1px, 1px, 1px);height: 1px;margin: -1px;overflow: hidden;padding: 0;position: absolute;width: 1px;}#sk-container-id-4 div.sk-estimator {font-family: monospace;background-color: #f0f8ff;border: 1px dotted black;border-radius: 0.25em;box-sizing: border-box;margin-bottom: 0.5em;}#sk-container-id-4 div.sk-estimator:hover {background-color: #d4ebff;}#sk-container-id-4 div.sk-parallel-item::after {content: \"\";width: 100%;border-bottom: 1px solid gray;flex-grow: 1;}#sk-container-id-4 div.sk-label:hover label.sk-toggleable__label {background-color: #d4ebff;}#sk-container-id-4 div.sk-serial::before {content: \"\";position: absolute;border-left: 1px solid gray;box-sizing: border-box;top: 0;bottom: 0;left: 50%;z-index: 0;}#sk-container-id-4 div.sk-serial {display: flex;flex-direction: column;align-items: center;background-color: white;padding-right: 0.2em;padding-left: 0.2em;position: relative;}#sk-container-id-4 div.sk-item {position: relative;z-index: 1;}#sk-container-id-4 div.sk-parallel {display: flex;align-items: stretch;justify-content: center;background-color: white;position: relative;}#sk-container-id-4 div.sk-item::before, #sk-container-id-4 div.sk-parallel-item::before {content: \"\";position: absolute;border-left: 1px solid gray;box-sizing: border-box;top: 0;bottom: 0;left: 50%;z-index: -1;}#sk-container-id-4 div.sk-parallel-item {display: flex;flex-direction: column;z-index: 1;position: relative;background-color: white;}#sk-container-id-4 div.sk-parallel-item:first-child::after {align-self: flex-end;width: 50%;}#sk-container-id-4 div.sk-parallel-item:last-child::after {align-self: flex-start;width: 50%;}#sk-container-id-4 div.sk-parallel-item:only-child::after {width: 0;}#sk-container-id-4 div.sk-dashed-wrapped {border: 1px dashed gray;margin: 0 0.4em 0.5em 0.4em;box-sizing: border-box;padding-bottom: 0.4em;background-color: white;}#sk-container-id-4 div.sk-label label {font-family: monospace;font-weight: bold;display: inline-block;line-height: 1.2em;}#sk-container-id-4 div.sk-label-container {text-align: center;}#sk-container-id-4 div.sk-container {/* jupyter's `normalize.less` sets `[hidden] { display: none; }` but bootstrap.min.css set `[hidden] { display: none !important; }` so we also need the `!important` here to be able to override the default hidden behavior on the sphinx rendered scikit-learn.org. See: https://github.com/scikit-learn/scikit-learn/issues/21755 */display: inline-block !important;position: relative;}#sk-container-id-4 div.sk-text-repr-fallback {display: none;}</style><div id=\"sk-container-id-4\" class=\"sk-top-container\"><div class=\"sk-text-repr-fallback\"><pre>Lasso(alpha=0.01, max_iter=3000)</pre><b>In a Jupyter environment, please rerun this cell to show the HTML representation or trust the notebook. <br />On GitHub, the HTML representation is unable to render, please try loading this page with nbviewer.org.</b></div><div class=\"sk-container\" hidden><div class=\"sk-item\"><div class=\"sk-estimator sk-toggleable\"><input class=\"sk-toggleable__control sk-hidden--visually\" id=\"sk-estimator-id-8\" type=\"checkbox\" checked><label for=\"sk-estimator-id-8\" class=\"sk-toggleable__label sk-toggleable__label-arrow\">Lasso</label><div class=\"sk-toggleable__content\"><pre>Lasso(alpha=0.01, max_iter=3000)</pre></div></div></div></div></div>"
            ]
          },
          "metadata": {},
          "execution_count": 164
        }
      ]
    },
    {
      "cell_type": "code",
      "source": [
        "# Y_test predicted values of MSE,RMSE,MAE"
      ],
      "metadata": {
        "id": "GluTw_jDYWDV"
      },
      "execution_count": null,
      "outputs": []
    },
    {
      "cell_type": "code",
      "source": [
        "y_test_pred = lasso.predict(X_test)\n",
        "\n",
        "print('MSE is {}'.format(mean_squared_error(y_test, y_test_pred)))\n",
        "print('RMSE is {}'.format(math.sqrt(mean_squared_error(y_test, y_test_pred))))\n",
        "print('MAE is {}'.format(mean_absolute_error(y_test, y_test_pred)))"
      ],
      "metadata": {
        "colab": {
          "base_uri": "https://localhost:8080/"
        },
        "id": "Fr7WUsi8YXoF",
        "outputId": "17a3c1bc-9abc-46b3-99d7-1310bf727712"
      },
      "execution_count": null,
      "outputs": [
        {
          "output_type": "stream",
          "name": "stdout",
          "text": [
            "MSE is 94.23170172766511\n",
            "RMSE is 9.707301464756574\n",
            "MAE is 7.006064911405861\n"
          ]
        }
      ]
    },
    {
      "cell_type": "code",
      "source": [
        "# R2 and Adjusted R2 values"
      ],
      "metadata": {
        "id": "Drnd9SP1YZlj"
      },
      "execution_count": null,
      "outputs": []
    },
    {
      "cell_type": "code",
      "source": [
        "\n",
        "r2 = r2_score(y_test, y_test_pred)\n",
        "print(\"R2 :\" ,r2)\n",
        "print(\"Adjusted R2 : \",1-(1-r2_score(y_test, y_test_pred))*((X_test.shape[0]-1)/(X_test.shape[0]-X_test.shape[1]-1)))"
      ],
      "metadata": {
        "colab": {
          "base_uri": "https://localhost:8080/"
        },
        "id": "5bJwsRCxYbPY",
        "outputId": "6b152b91-6660-40f5-e8ae-8772f322d1c0"
      },
      "execution_count": null,
      "outputs": [
        {
          "output_type": "stream",
          "name": "stdout",
          "text": [
            "R2 : 0.3834101873683916\n",
            "Adjusted R2 :  0.38263309889876373\n"
          ]
        }
      ]
    },
    {
      "cell_type": "markdown",
      "source": [
        "Inference: R2 for train and test split prediction is 0.38 we conclude that a model performance is low.\n",
        "\n",
        "**Implementing Ridge Regressor**"
      ],
      "metadata": {
        "id": "pf5OAnICYfcN"
      }
    },
    {
      "cell_type": "code",
      "source": [
        "#Ridge regressor for the coefficients of multiple-regression models in scenarios where the independent variables are highly correlated"
      ],
      "metadata": {
        "id": "J5awGa5uYdbm"
      },
      "execution_count": null,
      "outputs": []
    },
    {
      "cell_type": "code",
      "source": [
        "from sklearn.linear_model import Ridge\n",
        "from sklearn.model_selection import GridSearchCV\n",
        "import sklearn.metrics as metrics"
      ],
      "metadata": {
        "id": "-933uJRKYk1-"
      },
      "execution_count": null,
      "outputs": []
    },
    {
      "cell_type": "code",
      "source": [
        "#Hypertunning\n",
        "X = df_new[independent_variables].values\n",
        "y = df_new[dependent_variable].values\n",
        "X_train, X_test, y_train, y_test = train_test_split(X,y,test_size=0.33, random_state=42)\n",
        "ridge = Ridge()\n",
        "parameters = {'alpha': [1e-15,1e-10,1e-8,1e-5,1e-4,1e-3,1e-2,1,5,10,20,30,40,45,50,55,60,100]}\n",
        "ridge_regressor = GridSearchCV(ridge, parameters, scoring='neg_mean_squared_error', cv=3)\n",
        "ridge_regressor.fit(X_train,y_train)"
      ],
      "metadata": {
        "colab": {
          "base_uri": "https://localhost:8080/",
          "height": 501
        },
        "id": "67joC3KzYm8_",
        "outputId": "450ecc1b-d07e-46fc-9275-3681f76f631e"
      },
      "execution_count": null,
      "outputs": [
        {
          "output_type": "stream",
          "name": "stderr",
          "text": [
            "/usr/local/lib/python3.9/dist-packages/sklearn/linear_model/_ridge.py:216: LinAlgWarning: Ill-conditioned matrix (rcond=7.85973e-23): result may not be accurate.\n",
            "  return linalg.solve(A, Xy, assume_a=\"pos\", overwrite_a=True).T\n",
            "/usr/local/lib/python3.9/dist-packages/sklearn/linear_model/_ridge.py:216: LinAlgWarning: Ill-conditioned matrix (rcond=1.49035e-22): result may not be accurate.\n",
            "  return linalg.solve(A, Xy, assume_a=\"pos\", overwrite_a=True).T\n",
            "/usr/local/lib/python3.9/dist-packages/sklearn/linear_model/_ridge.py:216: LinAlgWarning: Ill-conditioned matrix (rcond=9.51027e-22): result may not be accurate.\n",
            "  return linalg.solve(A, Xy, assume_a=\"pos\", overwrite_a=True).T\n",
            "/usr/local/lib/python3.9/dist-packages/sklearn/linear_model/_ridge.py:216: LinAlgWarning: Ill-conditioned matrix (rcond=8.2915e-22): result may not be accurate.\n",
            "  return linalg.solve(A, Xy, assume_a=\"pos\", overwrite_a=True).T\n",
            "/usr/local/lib/python3.9/dist-packages/sklearn/linear_model/_ridge.py:216: LinAlgWarning: Ill-conditioned matrix (rcond=9.96179e-22): result may not be accurate.\n",
            "  return linalg.solve(A, Xy, assume_a=\"pos\", overwrite_a=True).T\n",
            "/usr/local/lib/python3.9/dist-packages/sklearn/linear_model/_ridge.py:216: LinAlgWarning: Ill-conditioned matrix (rcond=8.6567e-20): result may not be accurate.\n",
            "  return linalg.solve(A, Xy, assume_a=\"pos\", overwrite_a=True).T\n",
            "/usr/local/lib/python3.9/dist-packages/sklearn/linear_model/_ridge.py:216: LinAlgWarning: Ill-conditioned matrix (rcond=8.60205e-20): result may not be accurate.\n",
            "  return linalg.solve(A, Xy, assume_a=\"pos\", overwrite_a=True).T\n",
            "/usr/local/lib/python3.9/dist-packages/sklearn/linear_model/_ridge.py:216: LinAlgWarning: Ill-conditioned matrix (rcond=8.64323e-20): result may not be accurate.\n",
            "  return linalg.solve(A, Xy, assume_a=\"pos\", overwrite_a=True).T\n",
            "/usr/local/lib/python3.9/dist-packages/sklearn/linear_model/_ridge.py:216: LinAlgWarning: Ill-conditioned matrix (rcond=8.64785e-17): result may not be accurate.\n",
            "  return linalg.solve(A, Xy, assume_a=\"pos\", overwrite_a=True).T\n",
            "/usr/local/lib/python3.9/dist-packages/sklearn/linear_model/_ridge.py:216: LinAlgWarning: Ill-conditioned matrix (rcond=8.60652e-17): result may not be accurate.\n",
            "  return linalg.solve(A, Xy, assume_a=\"pos\", overwrite_a=True).T\n",
            "/usr/local/lib/python3.9/dist-packages/sklearn/linear_model/_ridge.py:216: LinAlgWarning: Ill-conditioned matrix (rcond=8.63048e-17): result may not be accurate.\n",
            "  return linalg.solve(A, Xy, assume_a=\"pos\", overwrite_a=True).T\n"
          ]
        },
        {
          "output_type": "execute_result",
          "data": {
            "text/plain": [
              "GridSearchCV(cv=3, estimator=Ridge(),\n",
              "             param_grid={'alpha': [1e-15, 1e-10, 1e-08, 1e-05, 0.0001, 0.001,\n",
              "                                   0.01, 1, 5, 10, 20, 30, 40, 45, 50, 55, 60,\n",
              "                                   100]},\n",
              "             scoring='neg_mean_squared_error')"
            ],
            "text/html": [
              "<style>#sk-container-id-5 {color: black;background-color: white;}#sk-container-id-5 pre{padding: 0;}#sk-container-id-5 div.sk-toggleable {background-color: white;}#sk-container-id-5 label.sk-toggleable__label {cursor: pointer;display: block;width: 100%;margin-bottom: 0;padding: 0.3em;box-sizing: border-box;text-align: center;}#sk-container-id-5 label.sk-toggleable__label-arrow:before {content: \"▸\";float: left;margin-right: 0.25em;color: #696969;}#sk-container-id-5 label.sk-toggleable__label-arrow:hover:before {color: black;}#sk-container-id-5 div.sk-estimator:hover label.sk-toggleable__label-arrow:before {color: black;}#sk-container-id-5 div.sk-toggleable__content {max-height: 0;max-width: 0;overflow: hidden;text-align: left;background-color: #f0f8ff;}#sk-container-id-5 div.sk-toggleable__content pre {margin: 0.2em;color: black;border-radius: 0.25em;background-color: #f0f8ff;}#sk-container-id-5 input.sk-toggleable__control:checked~div.sk-toggleable__content {max-height: 200px;max-width: 100%;overflow: auto;}#sk-container-id-5 input.sk-toggleable__control:checked~label.sk-toggleable__label-arrow:before {content: \"▾\";}#sk-container-id-5 div.sk-estimator input.sk-toggleable__control:checked~label.sk-toggleable__label {background-color: #d4ebff;}#sk-container-id-5 div.sk-label input.sk-toggleable__control:checked~label.sk-toggleable__label {background-color: #d4ebff;}#sk-container-id-5 input.sk-hidden--visually {border: 0;clip: rect(1px 1px 1px 1px);clip: rect(1px, 1px, 1px, 1px);height: 1px;margin: -1px;overflow: hidden;padding: 0;position: absolute;width: 1px;}#sk-container-id-5 div.sk-estimator {font-family: monospace;background-color: #f0f8ff;border: 1px dotted black;border-radius: 0.25em;box-sizing: border-box;margin-bottom: 0.5em;}#sk-container-id-5 div.sk-estimator:hover {background-color: #d4ebff;}#sk-container-id-5 div.sk-parallel-item::after {content: \"\";width: 100%;border-bottom: 1px solid gray;flex-grow: 1;}#sk-container-id-5 div.sk-label:hover label.sk-toggleable__label {background-color: #d4ebff;}#sk-container-id-5 div.sk-serial::before {content: \"\";position: absolute;border-left: 1px solid gray;box-sizing: border-box;top: 0;bottom: 0;left: 50%;z-index: 0;}#sk-container-id-5 div.sk-serial {display: flex;flex-direction: column;align-items: center;background-color: white;padding-right: 0.2em;padding-left: 0.2em;position: relative;}#sk-container-id-5 div.sk-item {position: relative;z-index: 1;}#sk-container-id-5 div.sk-parallel {display: flex;align-items: stretch;justify-content: center;background-color: white;position: relative;}#sk-container-id-5 div.sk-item::before, #sk-container-id-5 div.sk-parallel-item::before {content: \"\";position: absolute;border-left: 1px solid gray;box-sizing: border-box;top: 0;bottom: 0;left: 50%;z-index: -1;}#sk-container-id-5 div.sk-parallel-item {display: flex;flex-direction: column;z-index: 1;position: relative;background-color: white;}#sk-container-id-5 div.sk-parallel-item:first-child::after {align-self: flex-end;width: 50%;}#sk-container-id-5 div.sk-parallel-item:last-child::after {align-self: flex-start;width: 50%;}#sk-container-id-5 div.sk-parallel-item:only-child::after {width: 0;}#sk-container-id-5 div.sk-dashed-wrapped {border: 1px dashed gray;margin: 0 0.4em 0.5em 0.4em;box-sizing: border-box;padding-bottom: 0.4em;background-color: white;}#sk-container-id-5 div.sk-label label {font-family: monospace;font-weight: bold;display: inline-block;line-height: 1.2em;}#sk-container-id-5 div.sk-label-container {text-align: center;}#sk-container-id-5 div.sk-container {/* jupyter's `normalize.less` sets `[hidden] { display: none; }` but bootstrap.min.css set `[hidden] { display: none !important; }` so we also need the `!important` here to be able to override the default hidden behavior on the sphinx rendered scikit-learn.org. See: https://github.com/scikit-learn/scikit-learn/issues/21755 */display: inline-block !important;position: relative;}#sk-container-id-5 div.sk-text-repr-fallback {display: none;}</style><div id=\"sk-container-id-5\" class=\"sk-top-container\"><div class=\"sk-text-repr-fallback\"><pre>GridSearchCV(cv=3, estimator=Ridge(),\n",
              "             param_grid={&#x27;alpha&#x27;: [1e-15, 1e-10, 1e-08, 1e-05, 0.0001, 0.001,\n",
              "                                   0.01, 1, 5, 10, 20, 30, 40, 45, 50, 55, 60,\n",
              "                                   100]},\n",
              "             scoring=&#x27;neg_mean_squared_error&#x27;)</pre><b>In a Jupyter environment, please rerun this cell to show the HTML representation or trust the notebook. <br />On GitHub, the HTML representation is unable to render, please try loading this page with nbviewer.org.</b></div><div class=\"sk-container\" hidden><div class=\"sk-item sk-dashed-wrapped\"><div class=\"sk-label-container\"><div class=\"sk-label sk-toggleable\"><input class=\"sk-toggleable__control sk-hidden--visually\" id=\"sk-estimator-id-9\" type=\"checkbox\" ><label for=\"sk-estimator-id-9\" class=\"sk-toggleable__label sk-toggleable__label-arrow\">GridSearchCV</label><div class=\"sk-toggleable__content\"><pre>GridSearchCV(cv=3, estimator=Ridge(),\n",
              "             param_grid={&#x27;alpha&#x27;: [1e-15, 1e-10, 1e-08, 1e-05, 0.0001, 0.001,\n",
              "                                   0.01, 1, 5, 10, 20, 30, 40, 45, 50, 55, 60,\n",
              "                                   100]},\n",
              "             scoring=&#x27;neg_mean_squared_error&#x27;)</pre></div></div></div><div class=\"sk-parallel\"><div class=\"sk-parallel-item\"><div class=\"sk-item\"><div class=\"sk-label-container\"><div class=\"sk-label sk-toggleable\"><input class=\"sk-toggleable__control sk-hidden--visually\" id=\"sk-estimator-id-10\" type=\"checkbox\" ><label for=\"sk-estimator-id-10\" class=\"sk-toggleable__label sk-toggleable__label-arrow\">estimator: Ridge</label><div class=\"sk-toggleable__content\"><pre>Ridge()</pre></div></div></div><div class=\"sk-serial\"><div class=\"sk-item\"><div class=\"sk-estimator sk-toggleable\"><input class=\"sk-toggleable__control sk-hidden--visually\" id=\"sk-estimator-id-11\" type=\"checkbox\" ><label for=\"sk-estimator-id-11\" class=\"sk-toggleable__label sk-toggleable__label-arrow\">Ridge</label><div class=\"sk-toggleable__content\"><pre>Ridge()</pre></div></div></div></div></div></div></div></div></div></div>"
            ]
          },
          "metadata": {},
          "execution_count": 171
        }
      ]
    },
    {
      "cell_type": "code",
      "source": [
        "# Best fit Alpha Values"
      ],
      "metadata": {
        "id": "1bj2pRynYodl"
      },
      "execution_count": null,
      "outputs": []
    },
    {
      "cell_type": "code",
      "source": [
        "print(\"The best fit alpha value is found out to be :\" ,ridge_regressor.best_params_)\n",
        "print(\"\\nUsing \",ridge_regressor.best_params_, \" the negative mean squared error is: \", ridge_regressor.best_score_)"
      ],
      "metadata": {
        "colab": {
          "base_uri": "https://localhost:8080/"
        },
        "id": "knSvLlzmYqub",
        "outputId": "9fc68935-1f7c-456e-f411-7df2d6859214"
      },
      "execution_count": null,
      "outputs": [
        {
          "output_type": "stream",
          "name": "stdout",
          "text": [
            "The best fit alpha value is found out to be : {'alpha': 5}\n",
            "\n",
            "Using  {'alpha': 5}  the negative mean squared error is:  -95.75697187145106\n"
          ]
        }
      ]
    },
    {
      "cell_type": "code",
      "source": [
        "#R2 and Adjusted R2 values for Rigde Regressor"
      ],
      "metadata": {
        "id": "mUxM5EQjYv2J"
      },
      "execution_count": null,
      "outputs": []
    },
    {
      "cell_type": "code",
      "source": [
        "\n",
        "y_pred_ridge = ridge_regressor.predict(X_test)\n",
        "print(ridge_regressor.score(X_train,y_train))\n",
        "print(ridge_regressor.score(X_test,y_test))\n",
        "\n",
        "\n",
        "\n",
        "r2 = r2_score(y_test, y_pred_ridge)\n",
        "print(\"R2 :\" ,r2)\n",
        "print(\"Adjusted R2 : \",1-(1-r2_score(y_test, y_pred_ridge))*((X_test.shape[0]-1)/(X_test.shape[0]-X_test.shape[1]-1)))"
      ],
      "metadata": {
        "colab": {
          "base_uri": "https://localhost:8080/"
        },
        "id": "kVXvbrUgY50D",
        "outputId": "e376064f-e700-4494-d32e-7edf1bf55b75"
      },
      "execution_count": null,
      "outputs": [
        {
          "output_type": "stream",
          "name": "stdout",
          "text": [
            "-95.67797545785274\n",
            "-94.21755588392266\n",
            "R2 : 0.38028019506589816\n",
            "Adjusted R2 :  0.3798070987323411\n"
          ]
        }
      ]
    },
    {
      "cell_type": "markdown",
      "source": [
        "Inference:R2 for train and test split prediction is 0.38 we conclude that a model performance is still low.\n",
        "\n",
        "**XGBoost Regressor**"
      ],
      "metadata": {
        "id": "sKbBhnpsZNfO"
      }
    },
    {
      "cell_type": "code",
      "source": [
        "import xgboost as xgb\n",
        "\n",
        "X = df_new[independent_variables].values\n",
        "y = df_new[dependent_variable].values\n",
        "\n",
        "X_train, X_test, y_train, y_test = train_test_split(X,y,test_size=0.20, random_state=42)\n",
        "dreg= xgb.XGBRegressor(\n",
        "                        booster= 'gbtree',\n",
        "                        colsample_bylevel= 1,\n",
        "                        colsample_bynode= 1,\n",
        "                        colsample_bytree= 0.7,\n",
        "                        eta= 0.004,\n",
        "                        gamma= 0,\n",
        "                        importance_type= 'gain',\n",
        "                        learning_rate= 0.1,\n",
        "                        max_delta_step= 0,\n",
        "                        max_depth= 9,\n",
        "                        min_child_weight= 10,\n",
        "                        n_estimators= 100,\n",
        "                        n_jobs= 1,\n",
        "                        objective= 'reg:linear',\n",
        "                        random_state= 0,\n",
        "                        reg_alpha= 0,\n",
        "                        reg_lambda= 1,\n",
        "                        scale_pos_weight= 1,\n",
        "                        subsample= 1,\n",
        "                        verbosity= 1)\n",
        "dreg.fit(X_train, y_train)\n",
        "y_pred_train=dreg.predict(X_train)\n",
        "y_pred = dreg.predict(X_test)\n",
        "#Find R-squared value\n",
        "r2 = r2_score(y_test, y_pred)\n",
        "r2_train = r2_score(y_train, y_pred_train)\n",
        "# Find Adjusted R-squared value\n",
        "adj_r2=1-(1-r2_score(y_test, y_pred))*((X_test.shape[0]-1)/(X_test.shape[0]-X_test.shape[1]-1))\n",
        "train_score = dreg.score(X_train, y_train)\n",
        "test_score = dreg.score(X_test,y_test)\n",
        "print(f'Train score: {train_score}')\n",
        "print(f'Test score: {test_score}')\n",
        "adj_r2\n",
        "r2\n",
        "r2_train"
      ],
      "metadata": {
        "colab": {
          "base_uri": "https://localhost:8080/"
        },
        "id": "W-H9u8TvZBkJ",
        "outputId": "836c1423-82b8-4939-d817-31657f6f47a9"
      },
      "execution_count": null,
      "outputs": [
        {
          "output_type": "stream",
          "name": "stdout",
          "text": [
            "[06:18:52] WARNING: ../src/objective/regression_obj.cu:213: reg:linear is now deprecated in favor of reg:squarederror.\n",
            "Train score: 0.969183200736511\n",
            "Test score: 0.9638817483958656\n"
          ]
        },
        {
          "output_type": "execute_result",
          "data": {
            "text/plain": [
              "0.969183200736511"
            ]
          },
          "metadata": {},
          "execution_count": 176
        }
      ]
    },
    {
      "cell_type": "code",
      "source": [
        "# R2 and Adjusted R2 values for XGBoost Regressor"
      ],
      "metadata": {
        "id": "t3_BYhv9ZXDJ"
      },
      "execution_count": null,
      "outputs": []
    },
    {
      "cell_type": "code",
      "source": [
        "adj_r2"
      ],
      "metadata": {
        "colab": {
          "base_uri": "https://localhost:8080/"
        },
        "id": "jPvWkqG9ZdyK",
        "outputId": "ef400a08-4428-4d40-f4b6-ce6891fee645"
      },
      "execution_count": null,
      "outputs": [
        {
          "output_type": "execute_result",
          "data": {
            "text/plain": [
              "0.9638362285441106"
            ]
          },
          "metadata": {},
          "execution_count": 178
        }
      ]
    },
    {
      "cell_type": "code",
      "source": [
        "r2"
      ],
      "metadata": {
        "colab": {
          "base_uri": "https://localhost:8080/"
        },
        "id": "fiQQoTFrZfZd",
        "outputId": "fa5a07e9-9702-4077-c644-f35a2264fc0b"
      },
      "execution_count": null,
      "outputs": [
        {
          "output_type": "execute_result",
          "data": {
            "text/plain": [
              "0.9638817483958656"
            ]
          },
          "metadata": {},
          "execution_count": 179
        }
      ]
    },
    {
      "cell_type": "code",
      "source": [
        "r2_train"
      ],
      "metadata": {
        "colab": {
          "base_uri": "https://localhost:8080/"
        },
        "id": "aBP2g49VZhgR",
        "outputId": "ddc6d8f9-9919-4ded-f70a-b4b159addccc"
      },
      "execution_count": null,
      "outputs": [
        {
          "output_type": "execute_result",
          "data": {
            "text/plain": [
              "0.969183200736511"
            ]
          },
          "metadata": {},
          "execution_count": 180
        }
      ]
    },
    {
      "cell_type": "code",
      "source": [
        "print('MSE is {}'.format(mean_squared_error(y_test, y_pred)))"
      ],
      "metadata": {
        "colab": {
          "base_uri": "https://localhost:8080/"
        },
        "id": "vC3rd2TNZi4O",
        "outputId": "0e42e045-b5d1-455a-d66f-eff37112c706"
      },
      "execution_count": null,
      "outputs": [
        {
          "output_type": "stream",
          "name": "stdout",
          "text": [
            "MSE is 5.519851678313449\n"
          ]
        }
      ]
    },
    {
      "cell_type": "code",
      "source": [
        "print('MAE is {}'.format(mean_absolute_error(y_test, y_pred)))"
      ],
      "metadata": {
        "colab": {
          "base_uri": "https://localhost:8080/"
        },
        "id": "iXMKoRSLZk9V",
        "outputId": "9c35c8a7-b587-4c64-95fe-b8456831cd61"
      },
      "execution_count": null,
      "outputs": [
        {
          "output_type": "stream",
          "name": "stdout",
          "text": [
            "MAE is 1.5327385196164547\n"
          ]
        }
      ]
    },
    {
      "cell_type": "markdown",
      "source": [
        "Inference: R2 for train and test split prediction is 0.92 we conclude that a model performance is very high and fall under the accepted range.\n",
        "\n",
        "We will be using algorithms for each :\n",
        "\n",
        "GridSearchCV\n",
        "\n",
        "Hypertunning"
      ],
      "metadata": {
        "id": "3xWFo5jvZ0Z_"
      }
    },
    {
      "cell_type": "code",
      "source": [
        "import xgboost as xgb\n",
        "\n",
        "xgb = xgb.XGBRegressor()"
      ],
      "metadata": {
        "id": "owfLypFwZvsY"
      },
      "execution_count": null,
      "outputs": []
    },
    {
      "cell_type": "code",
      "source": [
        "\n",
        "# Parameters for Hypertunning"
      ],
      "metadata": {
        "id": "eQ9Ozo2DZ3iy"
      },
      "execution_count": null,
      "outputs": []
    },
    {
      "cell_type": "code",
      "source": [
        "params = {\"min_child_weight\":[10,20], \n",
        "            'eta': [0.004,0.04,4,40], \n",
        "            'colsample_bytree':[0.7], \n",
        "            'max_depth': [7,9,11],\n",
        "          \n",
        "          }"
      ],
      "metadata": {
        "id": "gSSsbW0FZ5BT"
      },
      "execution_count": null,
      "outputs": []
    },
    {
      "cell_type": "code",
      "source": [
        "# Gridsearchcv implementation"
      ],
      "metadata": {
        "id": "_EMybQltaGDU"
      },
      "execution_count": null,
      "outputs": []
    },
    {
      "cell_type": "code",
      "source": [
        "X = df_new[independent_variables].values\n",
        "y = df_new[dependent_variable].values\n",
        "\n",
        "# X_train, X_test, y_train, y_test = train_test_split(X,y,test_size=0.33, random_state=42)\n",
        "reg_gs = GridSearchCV(xgb,param_grid=params, verbose=1,cv=3)\n",
        "reg_gs.fit(X, y)"
      ],
      "metadata": {
        "colab": {
          "base_uri": "https://localhost:8080/",
          "height": 1000
        },
        "id": "A76baFBKaIcd",
        "outputId": "5db469ae-3d83-45e4-e014-3f020ab0c5b6"
      },
      "execution_count": null,
      "outputs": [
        {
          "output_type": "stream",
          "name": "stdout",
          "text": [
            "Fitting 3 folds for each of 24 candidates, totalling 72 fits\n"
          ]
        },
        {
          "output_type": "stream",
          "name": "stderr",
          "text": [
            "/usr/local/lib/python3.9/dist-packages/sklearn/model_selection/_validation.py:778: UserWarning: Scoring failed. The score on this train-test partition for these parameters will be set to nan. Details: \n",
            "Traceback (most recent call last):\n",
            "  File \"/usr/local/lib/python3.9/dist-packages/sklearn/model_selection/_validation.py\", line 767, in _score\n",
            "    scores = scorer(estimator, X_test, y_test)\n",
            "  File \"/usr/local/lib/python3.9/dist-packages/sklearn/metrics/_scorer.py\", line 444, in _passthrough_scorer\n",
            "    return estimator.score(*args, **kwargs)\n",
            "  File \"/usr/local/lib/python3.9/dist-packages/sklearn/base.py\", line 723, in score\n",
            "    return r2_score(y, y_pred, sample_weight=sample_weight)\n",
            "  File \"/usr/local/lib/python3.9/dist-packages/sklearn/metrics/_regression.py\", line 911, in r2_score\n",
            "    y_type, y_true, y_pred, multioutput = _check_reg_targets(\n",
            "  File \"/usr/local/lib/python3.9/dist-packages/sklearn/metrics/_regression.py\", line 102, in _check_reg_targets\n",
            "    y_pred = check_array(y_pred, ensure_2d=False, dtype=dtype)\n",
            "  File \"/usr/local/lib/python3.9/dist-packages/sklearn/utils/validation.py\", line 921, in check_array\n",
            "    _assert_all_finite(\n",
            "  File \"/usr/local/lib/python3.9/dist-packages/sklearn/utils/validation.py\", line 161, in _assert_all_finite\n",
            "    raise ValueError(msg_err)\n",
            "ValueError: Input contains NaN.\n",
            "\n",
            "  warnings.warn(\n",
            "/usr/local/lib/python3.9/dist-packages/sklearn/model_selection/_validation.py:778: UserWarning: Scoring failed. The score on this train-test partition for these parameters will be set to nan. Details: \n",
            "Traceback (most recent call last):\n",
            "  File \"/usr/local/lib/python3.9/dist-packages/sklearn/model_selection/_validation.py\", line 767, in _score\n",
            "    scores = scorer(estimator, X_test, y_test)\n",
            "  File \"/usr/local/lib/python3.9/dist-packages/sklearn/metrics/_scorer.py\", line 444, in _passthrough_scorer\n",
            "    return estimator.score(*args, **kwargs)\n",
            "  File \"/usr/local/lib/python3.9/dist-packages/sklearn/base.py\", line 723, in score\n",
            "    return r2_score(y, y_pred, sample_weight=sample_weight)\n",
            "  File \"/usr/local/lib/python3.9/dist-packages/sklearn/metrics/_regression.py\", line 911, in r2_score\n",
            "    y_type, y_true, y_pred, multioutput = _check_reg_targets(\n",
            "  File \"/usr/local/lib/python3.9/dist-packages/sklearn/metrics/_regression.py\", line 102, in _check_reg_targets\n",
            "    y_pred = check_array(y_pred, ensure_2d=False, dtype=dtype)\n",
            "  File \"/usr/local/lib/python3.9/dist-packages/sklearn/utils/validation.py\", line 921, in check_array\n",
            "    _assert_all_finite(\n",
            "  File \"/usr/local/lib/python3.9/dist-packages/sklearn/utils/validation.py\", line 161, in _assert_all_finite\n",
            "    raise ValueError(msg_err)\n",
            "ValueError: Input contains NaN.\n",
            "\n",
            "  warnings.warn(\n",
            "/usr/local/lib/python3.9/dist-packages/sklearn/model_selection/_validation.py:778: UserWarning: Scoring failed. The score on this train-test partition for these parameters will be set to nan. Details: \n",
            "Traceback (most recent call last):\n",
            "  File \"/usr/local/lib/python3.9/dist-packages/sklearn/model_selection/_validation.py\", line 767, in _score\n",
            "    scores = scorer(estimator, X_test, y_test)\n",
            "  File \"/usr/local/lib/python3.9/dist-packages/sklearn/metrics/_scorer.py\", line 444, in _passthrough_scorer\n",
            "    return estimator.score(*args, **kwargs)\n",
            "  File \"/usr/local/lib/python3.9/dist-packages/sklearn/base.py\", line 723, in score\n",
            "    return r2_score(y, y_pred, sample_weight=sample_weight)\n",
            "  File \"/usr/local/lib/python3.9/dist-packages/sklearn/metrics/_regression.py\", line 911, in r2_score\n",
            "    y_type, y_true, y_pred, multioutput = _check_reg_targets(\n",
            "  File \"/usr/local/lib/python3.9/dist-packages/sklearn/metrics/_regression.py\", line 102, in _check_reg_targets\n",
            "    y_pred = check_array(y_pred, ensure_2d=False, dtype=dtype)\n",
            "  File \"/usr/local/lib/python3.9/dist-packages/sklearn/utils/validation.py\", line 921, in check_array\n",
            "    _assert_all_finite(\n",
            "  File \"/usr/local/lib/python3.9/dist-packages/sklearn/utils/validation.py\", line 161, in _assert_all_finite\n",
            "    raise ValueError(msg_err)\n",
            "ValueError: Input contains NaN.\n",
            "\n",
            "  warnings.warn(\n",
            "/usr/local/lib/python3.9/dist-packages/sklearn/model_selection/_validation.py:778: UserWarning: Scoring failed. The score on this train-test partition for these parameters will be set to nan. Details: \n",
            "Traceback (most recent call last):\n",
            "  File \"/usr/local/lib/python3.9/dist-packages/sklearn/model_selection/_validation.py\", line 767, in _score\n",
            "    scores = scorer(estimator, X_test, y_test)\n",
            "  File \"/usr/local/lib/python3.9/dist-packages/sklearn/metrics/_scorer.py\", line 444, in _passthrough_scorer\n",
            "    return estimator.score(*args, **kwargs)\n",
            "  File \"/usr/local/lib/python3.9/dist-packages/sklearn/base.py\", line 723, in score\n",
            "    return r2_score(y, y_pred, sample_weight=sample_weight)\n",
            "  File \"/usr/local/lib/python3.9/dist-packages/sklearn/metrics/_regression.py\", line 911, in r2_score\n",
            "    y_type, y_true, y_pred, multioutput = _check_reg_targets(\n",
            "  File \"/usr/local/lib/python3.9/dist-packages/sklearn/metrics/_regression.py\", line 102, in _check_reg_targets\n",
            "    y_pred = check_array(y_pred, ensure_2d=False, dtype=dtype)\n",
            "  File \"/usr/local/lib/python3.9/dist-packages/sklearn/utils/validation.py\", line 921, in check_array\n",
            "    _assert_all_finite(\n",
            "  File \"/usr/local/lib/python3.9/dist-packages/sklearn/utils/validation.py\", line 161, in _assert_all_finite\n",
            "    raise ValueError(msg_err)\n",
            "ValueError: Input contains NaN.\n",
            "\n",
            "  warnings.warn(\n",
            "/usr/local/lib/python3.9/dist-packages/sklearn/model_selection/_validation.py:778: UserWarning: Scoring failed. The score on this train-test partition for these parameters will be set to nan. Details: \n",
            "Traceback (most recent call last):\n",
            "  File \"/usr/local/lib/python3.9/dist-packages/sklearn/model_selection/_validation.py\", line 767, in _score\n",
            "    scores = scorer(estimator, X_test, y_test)\n",
            "  File \"/usr/local/lib/python3.9/dist-packages/sklearn/metrics/_scorer.py\", line 444, in _passthrough_scorer\n",
            "    return estimator.score(*args, **kwargs)\n",
            "  File \"/usr/local/lib/python3.9/dist-packages/sklearn/base.py\", line 723, in score\n",
            "    return r2_score(y, y_pred, sample_weight=sample_weight)\n",
            "  File \"/usr/local/lib/python3.9/dist-packages/sklearn/metrics/_regression.py\", line 911, in r2_score\n",
            "    y_type, y_true, y_pred, multioutput = _check_reg_targets(\n",
            "  File \"/usr/local/lib/python3.9/dist-packages/sklearn/metrics/_regression.py\", line 102, in _check_reg_targets\n",
            "    y_pred = check_array(y_pred, ensure_2d=False, dtype=dtype)\n",
            "  File \"/usr/local/lib/python3.9/dist-packages/sklearn/utils/validation.py\", line 921, in check_array\n",
            "    _assert_all_finite(\n",
            "  File \"/usr/local/lib/python3.9/dist-packages/sklearn/utils/validation.py\", line 161, in _assert_all_finite\n",
            "    raise ValueError(msg_err)\n",
            "ValueError: Input contains NaN.\n",
            "\n",
            "  warnings.warn(\n",
            "/usr/local/lib/python3.9/dist-packages/sklearn/model_selection/_validation.py:778: UserWarning: Scoring failed. The score on this train-test partition for these parameters will be set to nan. Details: \n",
            "Traceback (most recent call last):\n",
            "  File \"/usr/local/lib/python3.9/dist-packages/sklearn/model_selection/_validation.py\", line 767, in _score\n",
            "    scores = scorer(estimator, X_test, y_test)\n",
            "  File \"/usr/local/lib/python3.9/dist-packages/sklearn/metrics/_scorer.py\", line 444, in _passthrough_scorer\n",
            "    return estimator.score(*args, **kwargs)\n",
            "  File \"/usr/local/lib/python3.9/dist-packages/sklearn/base.py\", line 723, in score\n",
            "    return r2_score(y, y_pred, sample_weight=sample_weight)\n",
            "  File \"/usr/local/lib/python3.9/dist-packages/sklearn/metrics/_regression.py\", line 911, in r2_score\n",
            "    y_type, y_true, y_pred, multioutput = _check_reg_targets(\n",
            "  File \"/usr/local/lib/python3.9/dist-packages/sklearn/metrics/_regression.py\", line 102, in _check_reg_targets\n",
            "    y_pred = check_array(y_pred, ensure_2d=False, dtype=dtype)\n",
            "  File \"/usr/local/lib/python3.9/dist-packages/sklearn/utils/validation.py\", line 921, in check_array\n",
            "    _assert_all_finite(\n",
            "  File \"/usr/local/lib/python3.9/dist-packages/sklearn/utils/validation.py\", line 161, in _assert_all_finite\n",
            "    raise ValueError(msg_err)\n",
            "ValueError: Input contains NaN.\n",
            "\n",
            "  warnings.warn(\n",
            "/usr/local/lib/python3.9/dist-packages/sklearn/model_selection/_validation.py:778: UserWarning: Scoring failed. The score on this train-test partition for these parameters will be set to nan. Details: \n",
            "Traceback (most recent call last):\n",
            "  File \"/usr/local/lib/python3.9/dist-packages/sklearn/model_selection/_validation.py\", line 767, in _score\n",
            "    scores = scorer(estimator, X_test, y_test)\n",
            "  File \"/usr/local/lib/python3.9/dist-packages/sklearn/metrics/_scorer.py\", line 444, in _passthrough_scorer\n",
            "    return estimator.score(*args, **kwargs)\n",
            "  File \"/usr/local/lib/python3.9/dist-packages/sklearn/base.py\", line 723, in score\n",
            "    return r2_score(y, y_pred, sample_weight=sample_weight)\n",
            "  File \"/usr/local/lib/python3.9/dist-packages/sklearn/metrics/_regression.py\", line 911, in r2_score\n",
            "    y_type, y_true, y_pred, multioutput = _check_reg_targets(\n",
            "  File \"/usr/local/lib/python3.9/dist-packages/sklearn/metrics/_regression.py\", line 102, in _check_reg_targets\n",
            "    y_pred = check_array(y_pred, ensure_2d=False, dtype=dtype)\n",
            "  File \"/usr/local/lib/python3.9/dist-packages/sklearn/utils/validation.py\", line 921, in check_array\n",
            "    _assert_all_finite(\n",
            "  File \"/usr/local/lib/python3.9/dist-packages/sklearn/utils/validation.py\", line 161, in _assert_all_finite\n",
            "    raise ValueError(msg_err)\n",
            "ValueError: Input contains NaN.\n",
            "\n",
            "  warnings.warn(\n",
            "/usr/local/lib/python3.9/dist-packages/sklearn/model_selection/_validation.py:778: UserWarning: Scoring failed. The score on this train-test partition for these parameters will be set to nan. Details: \n",
            "Traceback (most recent call last):\n",
            "  File \"/usr/local/lib/python3.9/dist-packages/sklearn/model_selection/_validation.py\", line 767, in _score\n",
            "    scores = scorer(estimator, X_test, y_test)\n",
            "  File \"/usr/local/lib/python3.9/dist-packages/sklearn/metrics/_scorer.py\", line 444, in _passthrough_scorer\n",
            "    return estimator.score(*args, **kwargs)\n",
            "  File \"/usr/local/lib/python3.9/dist-packages/sklearn/base.py\", line 723, in score\n",
            "    return r2_score(y, y_pred, sample_weight=sample_weight)\n",
            "  File \"/usr/local/lib/python3.9/dist-packages/sklearn/metrics/_regression.py\", line 911, in r2_score\n",
            "    y_type, y_true, y_pred, multioutput = _check_reg_targets(\n",
            "  File \"/usr/local/lib/python3.9/dist-packages/sklearn/metrics/_regression.py\", line 102, in _check_reg_targets\n",
            "    y_pred = check_array(y_pred, ensure_2d=False, dtype=dtype)\n",
            "  File \"/usr/local/lib/python3.9/dist-packages/sklearn/utils/validation.py\", line 921, in check_array\n",
            "    _assert_all_finite(\n",
            "  File \"/usr/local/lib/python3.9/dist-packages/sklearn/utils/validation.py\", line 161, in _assert_all_finite\n",
            "    raise ValueError(msg_err)\n",
            "ValueError: Input contains NaN.\n",
            "\n",
            "  warnings.warn(\n",
            "/usr/local/lib/python3.9/dist-packages/sklearn/model_selection/_validation.py:778: UserWarning: Scoring failed. The score on this train-test partition for these parameters will be set to nan. Details: \n",
            "Traceback (most recent call last):\n",
            "  File \"/usr/local/lib/python3.9/dist-packages/sklearn/model_selection/_validation.py\", line 767, in _score\n",
            "    scores = scorer(estimator, X_test, y_test)\n",
            "  File \"/usr/local/lib/python3.9/dist-packages/sklearn/metrics/_scorer.py\", line 444, in _passthrough_scorer\n",
            "    return estimator.score(*args, **kwargs)\n",
            "  File \"/usr/local/lib/python3.9/dist-packages/sklearn/base.py\", line 723, in score\n",
            "    return r2_score(y, y_pred, sample_weight=sample_weight)\n",
            "  File \"/usr/local/lib/python3.9/dist-packages/sklearn/metrics/_regression.py\", line 911, in r2_score\n",
            "    y_type, y_true, y_pred, multioutput = _check_reg_targets(\n",
            "  File \"/usr/local/lib/python3.9/dist-packages/sklearn/metrics/_regression.py\", line 102, in _check_reg_targets\n",
            "    y_pred = check_array(y_pred, ensure_2d=False, dtype=dtype)\n",
            "  File \"/usr/local/lib/python3.9/dist-packages/sklearn/utils/validation.py\", line 921, in check_array\n",
            "    _assert_all_finite(\n",
            "  File \"/usr/local/lib/python3.9/dist-packages/sklearn/utils/validation.py\", line 161, in _assert_all_finite\n",
            "    raise ValueError(msg_err)\n",
            "ValueError: Input contains NaN.\n",
            "\n",
            "  warnings.warn(\n",
            "/usr/local/lib/python3.9/dist-packages/sklearn/model_selection/_validation.py:778: UserWarning: Scoring failed. The score on this train-test partition for these parameters will be set to nan. Details: \n",
            "Traceback (most recent call last):\n",
            "  File \"/usr/local/lib/python3.9/dist-packages/sklearn/model_selection/_validation.py\", line 767, in _score\n",
            "    scores = scorer(estimator, X_test, y_test)\n",
            "  File \"/usr/local/lib/python3.9/dist-packages/sklearn/metrics/_scorer.py\", line 444, in _passthrough_scorer\n",
            "    return estimator.score(*args, **kwargs)\n",
            "  File \"/usr/local/lib/python3.9/dist-packages/sklearn/base.py\", line 723, in score\n",
            "    return r2_score(y, y_pred, sample_weight=sample_weight)\n",
            "  File \"/usr/local/lib/python3.9/dist-packages/sklearn/metrics/_regression.py\", line 911, in r2_score\n",
            "    y_type, y_true, y_pred, multioutput = _check_reg_targets(\n",
            "  File \"/usr/local/lib/python3.9/dist-packages/sklearn/metrics/_regression.py\", line 102, in _check_reg_targets\n",
            "    y_pred = check_array(y_pred, ensure_2d=False, dtype=dtype)\n",
            "  File \"/usr/local/lib/python3.9/dist-packages/sklearn/utils/validation.py\", line 921, in check_array\n",
            "    _assert_all_finite(\n",
            "  File \"/usr/local/lib/python3.9/dist-packages/sklearn/utils/validation.py\", line 161, in _assert_all_finite\n",
            "    raise ValueError(msg_err)\n",
            "ValueError: Input contains NaN.\n",
            "\n",
            "  warnings.warn(\n",
            "/usr/local/lib/python3.9/dist-packages/sklearn/model_selection/_validation.py:778: UserWarning: Scoring failed. The score on this train-test partition for these parameters will be set to nan. Details: \n",
            "Traceback (most recent call last):\n",
            "  File \"/usr/local/lib/python3.9/dist-packages/sklearn/model_selection/_validation.py\", line 767, in _score\n",
            "    scores = scorer(estimator, X_test, y_test)\n",
            "  File \"/usr/local/lib/python3.9/dist-packages/sklearn/metrics/_scorer.py\", line 444, in _passthrough_scorer\n",
            "    return estimator.score(*args, **kwargs)\n",
            "  File \"/usr/local/lib/python3.9/dist-packages/sklearn/base.py\", line 723, in score\n",
            "    return r2_score(y, y_pred, sample_weight=sample_weight)\n",
            "  File \"/usr/local/lib/python3.9/dist-packages/sklearn/metrics/_regression.py\", line 911, in r2_score\n",
            "    y_type, y_true, y_pred, multioutput = _check_reg_targets(\n",
            "  File \"/usr/local/lib/python3.9/dist-packages/sklearn/metrics/_regression.py\", line 102, in _check_reg_targets\n",
            "    y_pred = check_array(y_pred, ensure_2d=False, dtype=dtype)\n",
            "  File \"/usr/local/lib/python3.9/dist-packages/sklearn/utils/validation.py\", line 921, in check_array\n",
            "    _assert_all_finite(\n",
            "  File \"/usr/local/lib/python3.9/dist-packages/sklearn/utils/validation.py\", line 161, in _assert_all_finite\n",
            "    raise ValueError(msg_err)\n",
            "ValueError: Input contains NaN.\n",
            "\n",
            "  warnings.warn(\n",
            "/usr/local/lib/python3.9/dist-packages/sklearn/model_selection/_validation.py:778: UserWarning: Scoring failed. The score on this train-test partition for these parameters will be set to nan. Details: \n",
            "Traceback (most recent call last):\n",
            "  File \"/usr/local/lib/python3.9/dist-packages/sklearn/model_selection/_validation.py\", line 767, in _score\n",
            "    scores = scorer(estimator, X_test, y_test)\n",
            "  File \"/usr/local/lib/python3.9/dist-packages/sklearn/metrics/_scorer.py\", line 444, in _passthrough_scorer\n",
            "    return estimator.score(*args, **kwargs)\n",
            "  File \"/usr/local/lib/python3.9/dist-packages/sklearn/base.py\", line 723, in score\n",
            "    return r2_score(y, y_pred, sample_weight=sample_weight)\n",
            "  File \"/usr/local/lib/python3.9/dist-packages/sklearn/metrics/_regression.py\", line 911, in r2_score\n",
            "    y_type, y_true, y_pred, multioutput = _check_reg_targets(\n",
            "  File \"/usr/local/lib/python3.9/dist-packages/sklearn/metrics/_regression.py\", line 102, in _check_reg_targets\n",
            "    y_pred = check_array(y_pred, ensure_2d=False, dtype=dtype)\n",
            "  File \"/usr/local/lib/python3.9/dist-packages/sklearn/utils/validation.py\", line 921, in check_array\n",
            "    _assert_all_finite(\n",
            "  File \"/usr/local/lib/python3.9/dist-packages/sklearn/utils/validation.py\", line 161, in _assert_all_finite\n",
            "    raise ValueError(msg_err)\n",
            "ValueError: Input contains NaN.\n",
            "\n",
            "  warnings.warn(\n",
            "/usr/local/lib/python3.9/dist-packages/sklearn/model_selection/_validation.py:778: UserWarning: Scoring failed. The score on this train-test partition for these parameters will be set to nan. Details: \n",
            "Traceback (most recent call last):\n",
            "  File \"/usr/local/lib/python3.9/dist-packages/sklearn/model_selection/_validation.py\", line 767, in _score\n",
            "    scores = scorer(estimator, X_test, y_test)\n",
            "  File \"/usr/local/lib/python3.9/dist-packages/sklearn/metrics/_scorer.py\", line 444, in _passthrough_scorer\n",
            "    return estimator.score(*args, **kwargs)\n",
            "  File \"/usr/local/lib/python3.9/dist-packages/sklearn/base.py\", line 723, in score\n",
            "    return r2_score(y, y_pred, sample_weight=sample_weight)\n",
            "  File \"/usr/local/lib/python3.9/dist-packages/sklearn/metrics/_regression.py\", line 911, in r2_score\n",
            "    y_type, y_true, y_pred, multioutput = _check_reg_targets(\n",
            "  File \"/usr/local/lib/python3.9/dist-packages/sklearn/metrics/_regression.py\", line 102, in _check_reg_targets\n",
            "    y_pred = check_array(y_pred, ensure_2d=False, dtype=dtype)\n",
            "  File \"/usr/local/lib/python3.9/dist-packages/sklearn/utils/validation.py\", line 921, in check_array\n",
            "    _assert_all_finite(\n",
            "  File \"/usr/local/lib/python3.9/dist-packages/sklearn/utils/validation.py\", line 161, in _assert_all_finite\n",
            "    raise ValueError(msg_err)\n",
            "ValueError: Input contains NaN.\n",
            "\n",
            "  warnings.warn(\n",
            "/usr/local/lib/python3.9/dist-packages/sklearn/model_selection/_validation.py:778: UserWarning: Scoring failed. The score on this train-test partition for these parameters will be set to nan. Details: \n",
            "Traceback (most recent call last):\n",
            "  File \"/usr/local/lib/python3.9/dist-packages/sklearn/model_selection/_validation.py\", line 767, in _score\n",
            "    scores = scorer(estimator, X_test, y_test)\n",
            "  File \"/usr/local/lib/python3.9/dist-packages/sklearn/metrics/_scorer.py\", line 444, in _passthrough_scorer\n",
            "    return estimator.score(*args, **kwargs)\n",
            "  File \"/usr/local/lib/python3.9/dist-packages/sklearn/base.py\", line 723, in score\n",
            "    return r2_score(y, y_pred, sample_weight=sample_weight)\n",
            "  File \"/usr/local/lib/python3.9/dist-packages/sklearn/metrics/_regression.py\", line 911, in r2_score\n",
            "    y_type, y_true, y_pred, multioutput = _check_reg_targets(\n",
            "  File \"/usr/local/lib/python3.9/dist-packages/sklearn/metrics/_regression.py\", line 102, in _check_reg_targets\n",
            "    y_pred = check_array(y_pred, ensure_2d=False, dtype=dtype)\n",
            "  File \"/usr/local/lib/python3.9/dist-packages/sklearn/utils/validation.py\", line 921, in check_array\n",
            "    _assert_all_finite(\n",
            "  File \"/usr/local/lib/python3.9/dist-packages/sklearn/utils/validation.py\", line 161, in _assert_all_finite\n",
            "    raise ValueError(msg_err)\n",
            "ValueError: Input contains NaN.\n",
            "\n",
            "  warnings.warn(\n",
            "/usr/local/lib/python3.9/dist-packages/sklearn/model_selection/_validation.py:778: UserWarning: Scoring failed. The score on this train-test partition for these parameters will be set to nan. Details: \n",
            "Traceback (most recent call last):\n",
            "  File \"/usr/local/lib/python3.9/dist-packages/sklearn/model_selection/_validation.py\", line 767, in _score\n",
            "    scores = scorer(estimator, X_test, y_test)\n",
            "  File \"/usr/local/lib/python3.9/dist-packages/sklearn/metrics/_scorer.py\", line 444, in _passthrough_scorer\n",
            "    return estimator.score(*args, **kwargs)\n",
            "  File \"/usr/local/lib/python3.9/dist-packages/sklearn/base.py\", line 723, in score\n",
            "    return r2_score(y, y_pred, sample_weight=sample_weight)\n",
            "  File \"/usr/local/lib/python3.9/dist-packages/sklearn/metrics/_regression.py\", line 911, in r2_score\n",
            "    y_type, y_true, y_pred, multioutput = _check_reg_targets(\n",
            "  File \"/usr/local/lib/python3.9/dist-packages/sklearn/metrics/_regression.py\", line 102, in _check_reg_targets\n",
            "    y_pred = check_array(y_pred, ensure_2d=False, dtype=dtype)\n",
            "  File \"/usr/local/lib/python3.9/dist-packages/sklearn/utils/validation.py\", line 921, in check_array\n",
            "    _assert_all_finite(\n",
            "  File \"/usr/local/lib/python3.9/dist-packages/sklearn/utils/validation.py\", line 161, in _assert_all_finite\n",
            "    raise ValueError(msg_err)\n",
            "ValueError: Input contains NaN.\n",
            "\n",
            "  warnings.warn(\n",
            "/usr/local/lib/python3.9/dist-packages/sklearn/model_selection/_validation.py:778: UserWarning: Scoring failed. The score on this train-test partition for these parameters will be set to nan. Details: \n",
            "Traceback (most recent call last):\n",
            "  File \"/usr/local/lib/python3.9/dist-packages/sklearn/model_selection/_validation.py\", line 767, in _score\n",
            "    scores = scorer(estimator, X_test, y_test)\n",
            "  File \"/usr/local/lib/python3.9/dist-packages/sklearn/metrics/_scorer.py\", line 444, in _passthrough_scorer\n",
            "    return estimator.score(*args, **kwargs)\n",
            "  File \"/usr/local/lib/python3.9/dist-packages/sklearn/base.py\", line 723, in score\n",
            "    return r2_score(y, y_pred, sample_weight=sample_weight)\n",
            "  File \"/usr/local/lib/python3.9/dist-packages/sklearn/metrics/_regression.py\", line 911, in r2_score\n",
            "    y_type, y_true, y_pred, multioutput = _check_reg_targets(\n",
            "  File \"/usr/local/lib/python3.9/dist-packages/sklearn/metrics/_regression.py\", line 102, in _check_reg_targets\n",
            "    y_pred = check_array(y_pred, ensure_2d=False, dtype=dtype)\n",
            "  File \"/usr/local/lib/python3.9/dist-packages/sklearn/utils/validation.py\", line 921, in check_array\n",
            "    _assert_all_finite(\n",
            "  File \"/usr/local/lib/python3.9/dist-packages/sklearn/utils/validation.py\", line 161, in _assert_all_finite\n",
            "    raise ValueError(msg_err)\n",
            "ValueError: Input contains NaN.\n",
            "\n",
            "  warnings.warn(\n",
            "/usr/local/lib/python3.9/dist-packages/sklearn/model_selection/_validation.py:778: UserWarning: Scoring failed. The score on this train-test partition for these parameters will be set to nan. Details: \n",
            "Traceback (most recent call last):\n",
            "  File \"/usr/local/lib/python3.9/dist-packages/sklearn/model_selection/_validation.py\", line 767, in _score\n",
            "    scores = scorer(estimator, X_test, y_test)\n",
            "  File \"/usr/local/lib/python3.9/dist-packages/sklearn/metrics/_scorer.py\", line 444, in _passthrough_scorer\n",
            "    return estimator.score(*args, **kwargs)\n",
            "  File \"/usr/local/lib/python3.9/dist-packages/sklearn/base.py\", line 723, in score\n",
            "    return r2_score(y, y_pred, sample_weight=sample_weight)\n",
            "  File \"/usr/local/lib/python3.9/dist-packages/sklearn/metrics/_regression.py\", line 911, in r2_score\n",
            "    y_type, y_true, y_pred, multioutput = _check_reg_targets(\n",
            "  File \"/usr/local/lib/python3.9/dist-packages/sklearn/metrics/_regression.py\", line 102, in _check_reg_targets\n",
            "    y_pred = check_array(y_pred, ensure_2d=False, dtype=dtype)\n",
            "  File \"/usr/local/lib/python3.9/dist-packages/sklearn/utils/validation.py\", line 921, in check_array\n",
            "    _assert_all_finite(\n",
            "  File \"/usr/local/lib/python3.9/dist-packages/sklearn/utils/validation.py\", line 161, in _assert_all_finite\n",
            "    raise ValueError(msg_err)\n",
            "ValueError: Input contains NaN.\n",
            "\n",
            "  warnings.warn(\n",
            "/usr/local/lib/python3.9/dist-packages/sklearn/model_selection/_validation.py:778: UserWarning: Scoring failed. The score on this train-test partition for these parameters will be set to nan. Details: \n",
            "Traceback (most recent call last):\n",
            "  File \"/usr/local/lib/python3.9/dist-packages/sklearn/model_selection/_validation.py\", line 767, in _score\n",
            "    scores = scorer(estimator, X_test, y_test)\n",
            "  File \"/usr/local/lib/python3.9/dist-packages/sklearn/metrics/_scorer.py\", line 444, in _passthrough_scorer\n",
            "    return estimator.score(*args, **kwargs)\n",
            "  File \"/usr/local/lib/python3.9/dist-packages/sklearn/base.py\", line 723, in score\n",
            "    return r2_score(y, y_pred, sample_weight=sample_weight)\n",
            "  File \"/usr/local/lib/python3.9/dist-packages/sklearn/metrics/_regression.py\", line 911, in r2_score\n",
            "    y_type, y_true, y_pred, multioutput = _check_reg_targets(\n",
            "  File \"/usr/local/lib/python3.9/dist-packages/sklearn/metrics/_regression.py\", line 102, in _check_reg_targets\n",
            "    y_pred = check_array(y_pred, ensure_2d=False, dtype=dtype)\n",
            "  File \"/usr/local/lib/python3.9/dist-packages/sklearn/utils/validation.py\", line 921, in check_array\n",
            "    _assert_all_finite(\n",
            "  File \"/usr/local/lib/python3.9/dist-packages/sklearn/utils/validation.py\", line 161, in _assert_all_finite\n",
            "    raise ValueError(msg_err)\n",
            "ValueError: Input contains NaN.\n",
            "\n",
            "  warnings.warn(\n",
            "/usr/local/lib/python3.9/dist-packages/sklearn/model_selection/_validation.py:778: UserWarning: Scoring failed. The score on this train-test partition for these parameters will be set to nan. Details: \n",
            "Traceback (most recent call last):\n",
            "  File \"/usr/local/lib/python3.9/dist-packages/sklearn/model_selection/_validation.py\", line 767, in _score\n",
            "    scores = scorer(estimator, X_test, y_test)\n",
            "  File \"/usr/local/lib/python3.9/dist-packages/sklearn/metrics/_scorer.py\", line 444, in _passthrough_scorer\n",
            "    return estimator.score(*args, **kwargs)\n",
            "  File \"/usr/local/lib/python3.9/dist-packages/sklearn/base.py\", line 723, in score\n",
            "    return r2_score(y, y_pred, sample_weight=sample_weight)\n",
            "  File \"/usr/local/lib/python3.9/dist-packages/sklearn/metrics/_regression.py\", line 911, in r2_score\n",
            "    y_type, y_true, y_pred, multioutput = _check_reg_targets(\n",
            "  File \"/usr/local/lib/python3.9/dist-packages/sklearn/metrics/_regression.py\", line 102, in _check_reg_targets\n",
            "    y_pred = check_array(y_pred, ensure_2d=False, dtype=dtype)\n",
            "  File \"/usr/local/lib/python3.9/dist-packages/sklearn/utils/validation.py\", line 921, in check_array\n",
            "    _assert_all_finite(\n",
            "  File \"/usr/local/lib/python3.9/dist-packages/sklearn/utils/validation.py\", line 161, in _assert_all_finite\n",
            "    raise ValueError(msg_err)\n",
            "ValueError: Input contains NaN.\n",
            "\n",
            "  warnings.warn(\n",
            "/usr/local/lib/python3.9/dist-packages/sklearn/model_selection/_validation.py:778: UserWarning: Scoring failed. The score on this train-test partition for these parameters will be set to nan. Details: \n",
            "Traceback (most recent call last):\n",
            "  File \"/usr/local/lib/python3.9/dist-packages/sklearn/model_selection/_validation.py\", line 767, in _score\n",
            "    scores = scorer(estimator, X_test, y_test)\n",
            "  File \"/usr/local/lib/python3.9/dist-packages/sklearn/metrics/_scorer.py\", line 444, in _passthrough_scorer\n",
            "    return estimator.score(*args, **kwargs)\n",
            "  File \"/usr/local/lib/python3.9/dist-packages/sklearn/base.py\", line 723, in score\n",
            "    return r2_score(y, y_pred, sample_weight=sample_weight)\n",
            "  File \"/usr/local/lib/python3.9/dist-packages/sklearn/metrics/_regression.py\", line 911, in r2_score\n",
            "    y_type, y_true, y_pred, multioutput = _check_reg_targets(\n",
            "  File \"/usr/local/lib/python3.9/dist-packages/sklearn/metrics/_regression.py\", line 102, in _check_reg_targets\n",
            "    y_pred = check_array(y_pred, ensure_2d=False, dtype=dtype)\n",
            "  File \"/usr/local/lib/python3.9/dist-packages/sklearn/utils/validation.py\", line 921, in check_array\n",
            "    _assert_all_finite(\n",
            "  File \"/usr/local/lib/python3.9/dist-packages/sklearn/utils/validation.py\", line 161, in _assert_all_finite\n",
            "    raise ValueError(msg_err)\n",
            "ValueError: Input contains NaN.\n",
            "\n",
            "  warnings.warn(\n",
            "/usr/local/lib/python3.9/dist-packages/sklearn/model_selection/_validation.py:778: UserWarning: Scoring failed. The score on this train-test partition for these parameters will be set to nan. Details: \n",
            "Traceback (most recent call last):\n",
            "  File \"/usr/local/lib/python3.9/dist-packages/sklearn/model_selection/_validation.py\", line 767, in _score\n",
            "    scores = scorer(estimator, X_test, y_test)\n",
            "  File \"/usr/local/lib/python3.9/dist-packages/sklearn/metrics/_scorer.py\", line 444, in _passthrough_scorer\n",
            "    return estimator.score(*args, **kwargs)\n",
            "  File \"/usr/local/lib/python3.9/dist-packages/sklearn/base.py\", line 723, in score\n",
            "    return r2_score(y, y_pred, sample_weight=sample_weight)\n",
            "  File \"/usr/local/lib/python3.9/dist-packages/sklearn/metrics/_regression.py\", line 911, in r2_score\n",
            "    y_type, y_true, y_pred, multioutput = _check_reg_targets(\n",
            "  File \"/usr/local/lib/python3.9/dist-packages/sklearn/metrics/_regression.py\", line 102, in _check_reg_targets\n",
            "    y_pred = check_array(y_pred, ensure_2d=False, dtype=dtype)\n",
            "  File \"/usr/local/lib/python3.9/dist-packages/sklearn/utils/validation.py\", line 921, in check_array\n",
            "    _assert_all_finite(\n",
            "  File \"/usr/local/lib/python3.9/dist-packages/sklearn/utils/validation.py\", line 161, in _assert_all_finite\n",
            "    raise ValueError(msg_err)\n",
            "ValueError: Input contains NaN.\n",
            "\n",
            "  warnings.warn(\n",
            "/usr/local/lib/python3.9/dist-packages/sklearn/model_selection/_validation.py:778: UserWarning: Scoring failed. The score on this train-test partition for these parameters will be set to nan. Details: \n",
            "Traceback (most recent call last):\n",
            "  File \"/usr/local/lib/python3.9/dist-packages/sklearn/model_selection/_validation.py\", line 767, in _score\n",
            "    scores = scorer(estimator, X_test, y_test)\n",
            "  File \"/usr/local/lib/python3.9/dist-packages/sklearn/metrics/_scorer.py\", line 444, in _passthrough_scorer\n",
            "    return estimator.score(*args, **kwargs)\n",
            "  File \"/usr/local/lib/python3.9/dist-packages/sklearn/base.py\", line 723, in score\n",
            "    return r2_score(y, y_pred, sample_weight=sample_weight)\n",
            "  File \"/usr/local/lib/python3.9/dist-packages/sklearn/metrics/_regression.py\", line 911, in r2_score\n",
            "    y_type, y_true, y_pred, multioutput = _check_reg_targets(\n",
            "  File \"/usr/local/lib/python3.9/dist-packages/sklearn/metrics/_regression.py\", line 102, in _check_reg_targets\n",
            "    y_pred = check_array(y_pred, ensure_2d=False, dtype=dtype)\n",
            "  File \"/usr/local/lib/python3.9/dist-packages/sklearn/utils/validation.py\", line 921, in check_array\n",
            "    _assert_all_finite(\n",
            "  File \"/usr/local/lib/python3.9/dist-packages/sklearn/utils/validation.py\", line 161, in _assert_all_finite\n",
            "    raise ValueError(msg_err)\n",
            "ValueError: Input contains NaN.\n",
            "\n",
            "  warnings.warn(\n",
            "/usr/local/lib/python3.9/dist-packages/sklearn/model_selection/_validation.py:778: UserWarning: Scoring failed. The score on this train-test partition for these parameters will be set to nan. Details: \n",
            "Traceback (most recent call last):\n",
            "  File \"/usr/local/lib/python3.9/dist-packages/sklearn/model_selection/_validation.py\", line 767, in _score\n",
            "    scores = scorer(estimator, X_test, y_test)\n",
            "  File \"/usr/local/lib/python3.9/dist-packages/sklearn/metrics/_scorer.py\", line 444, in _passthrough_scorer\n",
            "    return estimator.score(*args, **kwargs)\n",
            "  File \"/usr/local/lib/python3.9/dist-packages/sklearn/base.py\", line 723, in score\n",
            "    return r2_score(y, y_pred, sample_weight=sample_weight)\n",
            "  File \"/usr/local/lib/python3.9/dist-packages/sklearn/metrics/_regression.py\", line 911, in r2_score\n",
            "    y_type, y_true, y_pred, multioutput = _check_reg_targets(\n",
            "  File \"/usr/local/lib/python3.9/dist-packages/sklearn/metrics/_regression.py\", line 102, in _check_reg_targets\n",
            "    y_pred = check_array(y_pred, ensure_2d=False, dtype=dtype)\n",
            "  File \"/usr/local/lib/python3.9/dist-packages/sklearn/utils/validation.py\", line 921, in check_array\n",
            "    _assert_all_finite(\n",
            "  File \"/usr/local/lib/python3.9/dist-packages/sklearn/utils/validation.py\", line 161, in _assert_all_finite\n",
            "    raise ValueError(msg_err)\n",
            "ValueError: Input contains NaN.\n",
            "\n",
            "  warnings.warn(\n",
            "/usr/local/lib/python3.9/dist-packages/sklearn/model_selection/_validation.py:778: UserWarning: Scoring failed. The score on this train-test partition for these parameters will be set to nan. Details: \n",
            "Traceback (most recent call last):\n",
            "  File \"/usr/local/lib/python3.9/dist-packages/sklearn/model_selection/_validation.py\", line 767, in _score\n",
            "    scores = scorer(estimator, X_test, y_test)\n",
            "  File \"/usr/local/lib/python3.9/dist-packages/sklearn/metrics/_scorer.py\", line 444, in _passthrough_scorer\n",
            "    return estimator.score(*args, **kwargs)\n",
            "  File \"/usr/local/lib/python3.9/dist-packages/sklearn/base.py\", line 723, in score\n",
            "    return r2_score(y, y_pred, sample_weight=sample_weight)\n",
            "  File \"/usr/local/lib/python3.9/dist-packages/sklearn/metrics/_regression.py\", line 911, in r2_score\n",
            "    y_type, y_true, y_pred, multioutput = _check_reg_targets(\n",
            "  File \"/usr/local/lib/python3.9/dist-packages/sklearn/metrics/_regression.py\", line 102, in _check_reg_targets\n",
            "    y_pred = check_array(y_pred, ensure_2d=False, dtype=dtype)\n",
            "  File \"/usr/local/lib/python3.9/dist-packages/sklearn/utils/validation.py\", line 921, in check_array\n",
            "    _assert_all_finite(\n",
            "  File \"/usr/local/lib/python3.9/dist-packages/sklearn/utils/validation.py\", line 161, in _assert_all_finite\n",
            "    raise ValueError(msg_err)\n",
            "ValueError: Input contains NaN.\n",
            "\n",
            "  warnings.warn(\n",
            "/usr/local/lib/python3.9/dist-packages/sklearn/model_selection/_validation.py:778: UserWarning: Scoring failed. The score on this train-test partition for these parameters will be set to nan. Details: \n",
            "Traceback (most recent call last):\n",
            "  File \"/usr/local/lib/python3.9/dist-packages/sklearn/model_selection/_validation.py\", line 767, in _score\n",
            "    scores = scorer(estimator, X_test, y_test)\n",
            "  File \"/usr/local/lib/python3.9/dist-packages/sklearn/metrics/_scorer.py\", line 444, in _passthrough_scorer\n",
            "    return estimator.score(*args, **kwargs)\n",
            "  File \"/usr/local/lib/python3.9/dist-packages/sklearn/base.py\", line 723, in score\n",
            "    return r2_score(y, y_pred, sample_weight=sample_weight)\n",
            "  File \"/usr/local/lib/python3.9/dist-packages/sklearn/metrics/_regression.py\", line 911, in r2_score\n",
            "    y_type, y_true, y_pred, multioutput = _check_reg_targets(\n",
            "  File \"/usr/local/lib/python3.9/dist-packages/sklearn/metrics/_regression.py\", line 102, in _check_reg_targets\n",
            "    y_pred = check_array(y_pred, ensure_2d=False, dtype=dtype)\n",
            "  File \"/usr/local/lib/python3.9/dist-packages/sklearn/utils/validation.py\", line 921, in check_array\n",
            "    _assert_all_finite(\n",
            "  File \"/usr/local/lib/python3.9/dist-packages/sklearn/utils/validation.py\", line 161, in _assert_all_finite\n",
            "    raise ValueError(msg_err)\n",
            "ValueError: Input contains NaN.\n",
            "\n",
            "  warnings.warn(\n",
            "/usr/local/lib/python3.9/dist-packages/sklearn/model_selection/_validation.py:778: UserWarning: Scoring failed. The score on this train-test partition for these parameters will be set to nan. Details: \n",
            "Traceback (most recent call last):\n",
            "  File \"/usr/local/lib/python3.9/dist-packages/sklearn/model_selection/_validation.py\", line 767, in _score\n",
            "    scores = scorer(estimator, X_test, y_test)\n",
            "  File \"/usr/local/lib/python3.9/dist-packages/sklearn/metrics/_scorer.py\", line 444, in _passthrough_scorer\n",
            "    return estimator.score(*args, **kwargs)\n",
            "  File \"/usr/local/lib/python3.9/dist-packages/sklearn/base.py\", line 723, in score\n",
            "    return r2_score(y, y_pred, sample_weight=sample_weight)\n",
            "  File \"/usr/local/lib/python3.9/dist-packages/sklearn/metrics/_regression.py\", line 911, in r2_score\n",
            "    y_type, y_true, y_pred, multioutput = _check_reg_targets(\n",
            "  File \"/usr/local/lib/python3.9/dist-packages/sklearn/metrics/_regression.py\", line 102, in _check_reg_targets\n",
            "    y_pred = check_array(y_pred, ensure_2d=False, dtype=dtype)\n",
            "  File \"/usr/local/lib/python3.9/dist-packages/sklearn/utils/validation.py\", line 921, in check_array\n",
            "    _assert_all_finite(\n",
            "  File \"/usr/local/lib/python3.9/dist-packages/sklearn/utils/validation.py\", line 161, in _assert_all_finite\n",
            "    raise ValueError(msg_err)\n",
            "ValueError: Input contains NaN.\n",
            "\n",
            "  warnings.warn(\n",
            "/usr/local/lib/python3.9/dist-packages/sklearn/model_selection/_validation.py:778: UserWarning: Scoring failed. The score on this train-test partition for these parameters will be set to nan. Details: \n",
            "Traceback (most recent call last):\n",
            "  File \"/usr/local/lib/python3.9/dist-packages/sklearn/model_selection/_validation.py\", line 767, in _score\n",
            "    scores = scorer(estimator, X_test, y_test)\n",
            "  File \"/usr/local/lib/python3.9/dist-packages/sklearn/metrics/_scorer.py\", line 444, in _passthrough_scorer\n",
            "    return estimator.score(*args, **kwargs)\n",
            "  File \"/usr/local/lib/python3.9/dist-packages/sklearn/base.py\", line 723, in score\n",
            "    return r2_score(y, y_pred, sample_weight=sample_weight)\n",
            "  File \"/usr/local/lib/python3.9/dist-packages/sklearn/metrics/_regression.py\", line 911, in r2_score\n",
            "    y_type, y_true, y_pred, multioutput = _check_reg_targets(\n",
            "  File \"/usr/local/lib/python3.9/dist-packages/sklearn/metrics/_regression.py\", line 102, in _check_reg_targets\n",
            "    y_pred = check_array(y_pred, ensure_2d=False, dtype=dtype)\n",
            "  File \"/usr/local/lib/python3.9/dist-packages/sklearn/utils/validation.py\", line 921, in check_array\n",
            "    _assert_all_finite(\n",
            "  File \"/usr/local/lib/python3.9/dist-packages/sklearn/utils/validation.py\", line 161, in _assert_all_finite\n",
            "    raise ValueError(msg_err)\n",
            "ValueError: Input contains NaN.\n",
            "\n",
            "  warnings.warn(\n",
            "/usr/local/lib/python3.9/dist-packages/sklearn/model_selection/_validation.py:778: UserWarning: Scoring failed. The score on this train-test partition for these parameters will be set to nan. Details: \n",
            "Traceback (most recent call last):\n",
            "  File \"/usr/local/lib/python3.9/dist-packages/sklearn/model_selection/_validation.py\", line 767, in _score\n",
            "    scores = scorer(estimator, X_test, y_test)\n",
            "  File \"/usr/local/lib/python3.9/dist-packages/sklearn/metrics/_scorer.py\", line 444, in _passthrough_scorer\n",
            "    return estimator.score(*args, **kwargs)\n",
            "  File \"/usr/local/lib/python3.9/dist-packages/sklearn/base.py\", line 723, in score\n",
            "    return r2_score(y, y_pred, sample_weight=sample_weight)\n",
            "  File \"/usr/local/lib/python3.9/dist-packages/sklearn/metrics/_regression.py\", line 911, in r2_score\n",
            "    y_type, y_true, y_pred, multioutput = _check_reg_targets(\n",
            "  File \"/usr/local/lib/python3.9/dist-packages/sklearn/metrics/_regression.py\", line 102, in _check_reg_targets\n",
            "    y_pred = check_array(y_pred, ensure_2d=False, dtype=dtype)\n",
            "  File \"/usr/local/lib/python3.9/dist-packages/sklearn/utils/validation.py\", line 921, in check_array\n",
            "    _assert_all_finite(\n",
            "  File \"/usr/local/lib/python3.9/dist-packages/sklearn/utils/validation.py\", line 161, in _assert_all_finite\n",
            "    raise ValueError(msg_err)\n",
            "ValueError: Input contains NaN.\n",
            "\n",
            "  warnings.warn(\n",
            "/usr/local/lib/python3.9/dist-packages/sklearn/model_selection/_validation.py:778: UserWarning: Scoring failed. The score on this train-test partition for these parameters will be set to nan. Details: \n",
            "Traceback (most recent call last):\n",
            "  File \"/usr/local/lib/python3.9/dist-packages/sklearn/model_selection/_validation.py\", line 767, in _score\n",
            "    scores = scorer(estimator, X_test, y_test)\n",
            "  File \"/usr/local/lib/python3.9/dist-packages/sklearn/metrics/_scorer.py\", line 444, in _passthrough_scorer\n",
            "    return estimator.score(*args, **kwargs)\n",
            "  File \"/usr/local/lib/python3.9/dist-packages/sklearn/base.py\", line 723, in score\n",
            "    return r2_score(y, y_pred, sample_weight=sample_weight)\n",
            "  File \"/usr/local/lib/python3.9/dist-packages/sklearn/metrics/_regression.py\", line 911, in r2_score\n",
            "    y_type, y_true, y_pred, multioutput = _check_reg_targets(\n",
            "  File \"/usr/local/lib/python3.9/dist-packages/sklearn/metrics/_regression.py\", line 102, in _check_reg_targets\n",
            "    y_pred = check_array(y_pred, ensure_2d=False, dtype=dtype)\n",
            "  File \"/usr/local/lib/python3.9/dist-packages/sklearn/utils/validation.py\", line 921, in check_array\n",
            "    _assert_all_finite(\n",
            "  File \"/usr/local/lib/python3.9/dist-packages/sklearn/utils/validation.py\", line 161, in _assert_all_finite\n",
            "    raise ValueError(msg_err)\n",
            "ValueError: Input contains NaN.\n",
            "\n",
            "  warnings.warn(\n",
            "/usr/local/lib/python3.9/dist-packages/sklearn/model_selection/_validation.py:778: UserWarning: Scoring failed. The score on this train-test partition for these parameters will be set to nan. Details: \n",
            "Traceback (most recent call last):\n",
            "  File \"/usr/local/lib/python3.9/dist-packages/sklearn/model_selection/_validation.py\", line 767, in _score\n",
            "    scores = scorer(estimator, X_test, y_test)\n",
            "  File \"/usr/local/lib/python3.9/dist-packages/sklearn/metrics/_scorer.py\", line 444, in _passthrough_scorer\n",
            "    return estimator.score(*args, **kwargs)\n",
            "  File \"/usr/local/lib/python3.9/dist-packages/sklearn/base.py\", line 723, in score\n",
            "    return r2_score(y, y_pred, sample_weight=sample_weight)\n",
            "  File \"/usr/local/lib/python3.9/dist-packages/sklearn/metrics/_regression.py\", line 911, in r2_score\n",
            "    y_type, y_true, y_pred, multioutput = _check_reg_targets(\n",
            "  File \"/usr/local/lib/python3.9/dist-packages/sklearn/metrics/_regression.py\", line 102, in _check_reg_targets\n",
            "    y_pred = check_array(y_pred, ensure_2d=False, dtype=dtype)\n",
            "  File \"/usr/local/lib/python3.9/dist-packages/sklearn/utils/validation.py\", line 921, in check_array\n",
            "    _assert_all_finite(\n",
            "  File \"/usr/local/lib/python3.9/dist-packages/sklearn/utils/validation.py\", line 161, in _assert_all_finite\n",
            "    raise ValueError(msg_err)\n",
            "ValueError: Input contains NaN.\n",
            "\n",
            "  warnings.warn(\n",
            "/usr/local/lib/python3.9/dist-packages/sklearn/model_selection/_validation.py:778: UserWarning: Scoring failed. The score on this train-test partition for these parameters will be set to nan. Details: \n",
            "Traceback (most recent call last):\n",
            "  File \"/usr/local/lib/python3.9/dist-packages/sklearn/model_selection/_validation.py\", line 767, in _score\n",
            "    scores = scorer(estimator, X_test, y_test)\n",
            "  File \"/usr/local/lib/python3.9/dist-packages/sklearn/metrics/_scorer.py\", line 444, in _passthrough_scorer\n",
            "    return estimator.score(*args, **kwargs)\n",
            "  File \"/usr/local/lib/python3.9/dist-packages/sklearn/base.py\", line 723, in score\n",
            "    return r2_score(y, y_pred, sample_weight=sample_weight)\n",
            "  File \"/usr/local/lib/python3.9/dist-packages/sklearn/metrics/_regression.py\", line 911, in r2_score\n",
            "    y_type, y_true, y_pred, multioutput = _check_reg_targets(\n",
            "  File \"/usr/local/lib/python3.9/dist-packages/sklearn/metrics/_regression.py\", line 102, in _check_reg_targets\n",
            "    y_pred = check_array(y_pred, ensure_2d=False, dtype=dtype)\n",
            "  File \"/usr/local/lib/python3.9/dist-packages/sklearn/utils/validation.py\", line 921, in check_array\n",
            "    _assert_all_finite(\n",
            "  File \"/usr/local/lib/python3.9/dist-packages/sklearn/utils/validation.py\", line 161, in _assert_all_finite\n",
            "    raise ValueError(msg_err)\n",
            "ValueError: Input contains NaN.\n",
            "\n",
            "  warnings.warn(\n",
            "/usr/local/lib/python3.9/dist-packages/sklearn/model_selection/_validation.py:778: UserWarning: Scoring failed. The score on this train-test partition for these parameters will be set to nan. Details: \n",
            "Traceback (most recent call last):\n",
            "  File \"/usr/local/lib/python3.9/dist-packages/sklearn/model_selection/_validation.py\", line 767, in _score\n",
            "    scores = scorer(estimator, X_test, y_test)\n",
            "  File \"/usr/local/lib/python3.9/dist-packages/sklearn/metrics/_scorer.py\", line 444, in _passthrough_scorer\n",
            "    return estimator.score(*args, **kwargs)\n",
            "  File \"/usr/local/lib/python3.9/dist-packages/sklearn/base.py\", line 723, in score\n",
            "    return r2_score(y, y_pred, sample_weight=sample_weight)\n",
            "  File \"/usr/local/lib/python3.9/dist-packages/sklearn/metrics/_regression.py\", line 911, in r2_score\n",
            "    y_type, y_true, y_pred, multioutput = _check_reg_targets(\n",
            "  File \"/usr/local/lib/python3.9/dist-packages/sklearn/metrics/_regression.py\", line 102, in _check_reg_targets\n",
            "    y_pred = check_array(y_pred, ensure_2d=False, dtype=dtype)\n",
            "  File \"/usr/local/lib/python3.9/dist-packages/sklearn/utils/validation.py\", line 921, in check_array\n",
            "    _assert_all_finite(\n",
            "  File \"/usr/local/lib/python3.9/dist-packages/sklearn/utils/validation.py\", line 161, in _assert_all_finite\n",
            "    raise ValueError(msg_err)\n",
            "ValueError: Input contains NaN.\n",
            "\n",
            "  warnings.warn(\n",
            "/usr/local/lib/python3.9/dist-packages/sklearn/model_selection/_validation.py:778: UserWarning: Scoring failed. The score on this train-test partition for these parameters will be set to nan. Details: \n",
            "Traceback (most recent call last):\n",
            "  File \"/usr/local/lib/python3.9/dist-packages/sklearn/model_selection/_validation.py\", line 767, in _score\n",
            "    scores = scorer(estimator, X_test, y_test)\n",
            "  File \"/usr/local/lib/python3.9/dist-packages/sklearn/metrics/_scorer.py\", line 444, in _passthrough_scorer\n",
            "    return estimator.score(*args, **kwargs)\n",
            "  File \"/usr/local/lib/python3.9/dist-packages/sklearn/base.py\", line 723, in score\n",
            "    return r2_score(y, y_pred, sample_weight=sample_weight)\n",
            "  File \"/usr/local/lib/python3.9/dist-packages/sklearn/metrics/_regression.py\", line 911, in r2_score\n",
            "    y_type, y_true, y_pred, multioutput = _check_reg_targets(\n",
            "  File \"/usr/local/lib/python3.9/dist-packages/sklearn/metrics/_regression.py\", line 102, in _check_reg_targets\n",
            "    y_pred = check_array(y_pred, ensure_2d=False, dtype=dtype)\n",
            "  File \"/usr/local/lib/python3.9/dist-packages/sklearn/utils/validation.py\", line 921, in check_array\n",
            "    _assert_all_finite(\n",
            "  File \"/usr/local/lib/python3.9/dist-packages/sklearn/utils/validation.py\", line 161, in _assert_all_finite\n",
            "    raise ValueError(msg_err)\n",
            "ValueError: Input contains NaN.\n",
            "\n",
            "  warnings.warn(\n",
            "/usr/local/lib/python3.9/dist-packages/sklearn/model_selection/_validation.py:778: UserWarning: Scoring failed. The score on this train-test partition for these parameters will be set to nan. Details: \n",
            "Traceback (most recent call last):\n",
            "  File \"/usr/local/lib/python3.9/dist-packages/sklearn/model_selection/_validation.py\", line 767, in _score\n",
            "    scores = scorer(estimator, X_test, y_test)\n",
            "  File \"/usr/local/lib/python3.9/dist-packages/sklearn/metrics/_scorer.py\", line 444, in _passthrough_scorer\n",
            "    return estimator.score(*args, **kwargs)\n",
            "  File \"/usr/local/lib/python3.9/dist-packages/sklearn/base.py\", line 723, in score\n",
            "    return r2_score(y, y_pred, sample_weight=sample_weight)\n",
            "  File \"/usr/local/lib/python3.9/dist-packages/sklearn/metrics/_regression.py\", line 911, in r2_score\n",
            "    y_type, y_true, y_pred, multioutput = _check_reg_targets(\n",
            "  File \"/usr/local/lib/python3.9/dist-packages/sklearn/metrics/_regression.py\", line 102, in _check_reg_targets\n",
            "    y_pred = check_array(y_pred, ensure_2d=False, dtype=dtype)\n",
            "  File \"/usr/local/lib/python3.9/dist-packages/sklearn/utils/validation.py\", line 921, in check_array\n",
            "    _assert_all_finite(\n",
            "  File \"/usr/local/lib/python3.9/dist-packages/sklearn/utils/validation.py\", line 161, in _assert_all_finite\n",
            "    raise ValueError(msg_err)\n",
            "ValueError: Input contains NaN.\n",
            "\n",
            "  warnings.warn(\n",
            "/usr/local/lib/python3.9/dist-packages/sklearn/model_selection/_validation.py:778: UserWarning: Scoring failed. The score on this train-test partition for these parameters will be set to nan. Details: \n",
            "Traceback (most recent call last):\n",
            "  File \"/usr/local/lib/python3.9/dist-packages/sklearn/model_selection/_validation.py\", line 767, in _score\n",
            "    scores = scorer(estimator, X_test, y_test)\n",
            "  File \"/usr/local/lib/python3.9/dist-packages/sklearn/metrics/_scorer.py\", line 444, in _passthrough_scorer\n",
            "    return estimator.score(*args, **kwargs)\n",
            "  File \"/usr/local/lib/python3.9/dist-packages/sklearn/base.py\", line 723, in score\n",
            "    return r2_score(y, y_pred, sample_weight=sample_weight)\n",
            "  File \"/usr/local/lib/python3.9/dist-packages/sklearn/metrics/_regression.py\", line 911, in r2_score\n",
            "    y_type, y_true, y_pred, multioutput = _check_reg_targets(\n",
            "  File \"/usr/local/lib/python3.9/dist-packages/sklearn/metrics/_regression.py\", line 102, in _check_reg_targets\n",
            "    y_pred = check_array(y_pred, ensure_2d=False, dtype=dtype)\n",
            "  File \"/usr/local/lib/python3.9/dist-packages/sklearn/utils/validation.py\", line 921, in check_array\n",
            "    _assert_all_finite(\n",
            "  File \"/usr/local/lib/python3.9/dist-packages/sklearn/utils/validation.py\", line 161, in _assert_all_finite\n",
            "    raise ValueError(msg_err)\n",
            "ValueError: Input contains NaN.\n",
            "\n",
            "  warnings.warn(\n",
            "/usr/local/lib/python3.9/dist-packages/sklearn/model_selection/_validation.py:778: UserWarning: Scoring failed. The score on this train-test partition for these parameters will be set to nan. Details: \n",
            "Traceback (most recent call last):\n",
            "  File \"/usr/local/lib/python3.9/dist-packages/sklearn/model_selection/_validation.py\", line 767, in _score\n",
            "    scores = scorer(estimator, X_test, y_test)\n",
            "  File \"/usr/local/lib/python3.9/dist-packages/sklearn/metrics/_scorer.py\", line 444, in _passthrough_scorer\n",
            "    return estimator.score(*args, **kwargs)\n",
            "  File \"/usr/local/lib/python3.9/dist-packages/sklearn/base.py\", line 723, in score\n",
            "    return r2_score(y, y_pred, sample_weight=sample_weight)\n",
            "  File \"/usr/local/lib/python3.9/dist-packages/sklearn/metrics/_regression.py\", line 911, in r2_score\n",
            "    y_type, y_true, y_pred, multioutput = _check_reg_targets(\n",
            "  File \"/usr/local/lib/python3.9/dist-packages/sklearn/metrics/_regression.py\", line 102, in _check_reg_targets\n",
            "    y_pred = check_array(y_pred, ensure_2d=False, dtype=dtype)\n",
            "  File \"/usr/local/lib/python3.9/dist-packages/sklearn/utils/validation.py\", line 921, in check_array\n",
            "    _assert_all_finite(\n",
            "  File \"/usr/local/lib/python3.9/dist-packages/sklearn/utils/validation.py\", line 161, in _assert_all_finite\n",
            "    raise ValueError(msg_err)\n",
            "ValueError: Input contains NaN.\n",
            "\n",
            "  warnings.warn(\n",
            "/usr/local/lib/python3.9/dist-packages/sklearn/model_selection/_search.py:952: UserWarning: One or more of the test scores are non-finite: [-0.65734852 -0.65077969 -0.70678128 -0.68228595 -0.74633188 -0.70883645\n",
            "  0.43786279  0.44935557  0.40295729  0.44138941  0.36796748  0.44240648\n",
            "         nan         nan         nan         nan         nan         nan\n",
            "         nan         nan         nan         nan         nan         nan]\n",
            "  warnings.warn(\n"
          ]
        },
        {
          "output_type": "execute_result",
          "data": {
            "text/plain": [
              "GridSearchCV(cv=3,\n",
              "             estimator=XGBRegressor(base_score=None, booster=None,\n",
              "                                    callbacks=None, colsample_bylevel=None,\n",
              "                                    colsample_bynode=None,\n",
              "                                    colsample_bytree=None,\n",
              "                                    early_stopping_rounds=None,\n",
              "                                    enable_categorical=False, eval_metric=None,\n",
              "                                    feature_types=None, gamma=None, gpu_id=None,\n",
              "                                    grow_policy=None, importance_type=None,\n",
              "                                    interaction_constraints=None,\n",
              "                                    learning_rate=None, m...\n",
              "                                    max_cat_threshold=None,\n",
              "                                    max_cat_to_onehot=None, max_delta_step=None,\n",
              "                                    max_depth=None, max_leaves=None,\n",
              "                                    min_child_weight=None, missing=nan,\n",
              "                                    monotone_constraints=None, n_estimators=100,\n",
              "                                    n_jobs=None, num_parallel_tree=None,\n",
              "                                    predictor=None, random_state=None, ...),\n",
              "             param_grid={'colsample_bytree': [0.7], 'eta': [0.004, 0.04, 4, 40],\n",
              "                         'max_depth': [7, 9, 11],\n",
              "                         'min_child_weight': [10, 20]},\n",
              "             verbose=1)"
            ],
            "text/html": [
              "<style>#sk-container-id-6 {color: black;background-color: white;}#sk-container-id-6 pre{padding: 0;}#sk-container-id-6 div.sk-toggleable {background-color: white;}#sk-container-id-6 label.sk-toggleable__label {cursor: pointer;display: block;width: 100%;margin-bottom: 0;padding: 0.3em;box-sizing: border-box;text-align: center;}#sk-container-id-6 label.sk-toggleable__label-arrow:before {content: \"▸\";float: left;margin-right: 0.25em;color: #696969;}#sk-container-id-6 label.sk-toggleable__label-arrow:hover:before {color: black;}#sk-container-id-6 div.sk-estimator:hover label.sk-toggleable__label-arrow:before {color: black;}#sk-container-id-6 div.sk-toggleable__content {max-height: 0;max-width: 0;overflow: hidden;text-align: left;background-color: #f0f8ff;}#sk-container-id-6 div.sk-toggleable__content pre {margin: 0.2em;color: black;border-radius: 0.25em;background-color: #f0f8ff;}#sk-container-id-6 input.sk-toggleable__control:checked~div.sk-toggleable__content {max-height: 200px;max-width: 100%;overflow: auto;}#sk-container-id-6 input.sk-toggleable__control:checked~label.sk-toggleable__label-arrow:before {content: \"▾\";}#sk-container-id-6 div.sk-estimator input.sk-toggleable__control:checked~label.sk-toggleable__label {background-color: #d4ebff;}#sk-container-id-6 div.sk-label input.sk-toggleable__control:checked~label.sk-toggleable__label {background-color: #d4ebff;}#sk-container-id-6 input.sk-hidden--visually {border: 0;clip: rect(1px 1px 1px 1px);clip: rect(1px, 1px, 1px, 1px);height: 1px;margin: -1px;overflow: hidden;padding: 0;position: absolute;width: 1px;}#sk-container-id-6 div.sk-estimator {font-family: monospace;background-color: #f0f8ff;border: 1px dotted black;border-radius: 0.25em;box-sizing: border-box;margin-bottom: 0.5em;}#sk-container-id-6 div.sk-estimator:hover {background-color: #d4ebff;}#sk-container-id-6 div.sk-parallel-item::after {content: \"\";width: 100%;border-bottom: 1px solid gray;flex-grow: 1;}#sk-container-id-6 div.sk-label:hover label.sk-toggleable__label {background-color: #d4ebff;}#sk-container-id-6 div.sk-serial::before {content: \"\";position: absolute;border-left: 1px solid gray;box-sizing: border-box;top: 0;bottom: 0;left: 50%;z-index: 0;}#sk-container-id-6 div.sk-serial {display: flex;flex-direction: column;align-items: center;background-color: white;padding-right: 0.2em;padding-left: 0.2em;position: relative;}#sk-container-id-6 div.sk-item {position: relative;z-index: 1;}#sk-container-id-6 div.sk-parallel {display: flex;align-items: stretch;justify-content: center;background-color: white;position: relative;}#sk-container-id-6 div.sk-item::before, #sk-container-id-6 div.sk-parallel-item::before {content: \"\";position: absolute;border-left: 1px solid gray;box-sizing: border-box;top: 0;bottom: 0;left: 50%;z-index: -1;}#sk-container-id-6 div.sk-parallel-item {display: flex;flex-direction: column;z-index: 1;position: relative;background-color: white;}#sk-container-id-6 div.sk-parallel-item:first-child::after {align-self: flex-end;width: 50%;}#sk-container-id-6 div.sk-parallel-item:last-child::after {align-self: flex-start;width: 50%;}#sk-container-id-6 div.sk-parallel-item:only-child::after {width: 0;}#sk-container-id-6 div.sk-dashed-wrapped {border: 1px dashed gray;margin: 0 0.4em 0.5em 0.4em;box-sizing: border-box;padding-bottom: 0.4em;background-color: white;}#sk-container-id-6 div.sk-label label {font-family: monospace;font-weight: bold;display: inline-block;line-height: 1.2em;}#sk-container-id-6 div.sk-label-container {text-align: center;}#sk-container-id-6 div.sk-container {/* jupyter's `normalize.less` sets `[hidden] { display: none; }` but bootstrap.min.css set `[hidden] { display: none !important; }` so we also need the `!important` here to be able to override the default hidden behavior on the sphinx rendered scikit-learn.org. See: https://github.com/scikit-learn/scikit-learn/issues/21755 */display: inline-block !important;position: relative;}#sk-container-id-6 div.sk-text-repr-fallback {display: none;}</style><div id=\"sk-container-id-6\" class=\"sk-top-container\"><div class=\"sk-text-repr-fallback\"><pre>GridSearchCV(cv=3,\n",
              "             estimator=XGBRegressor(base_score=None, booster=None,\n",
              "                                    callbacks=None, colsample_bylevel=None,\n",
              "                                    colsample_bynode=None,\n",
              "                                    colsample_bytree=None,\n",
              "                                    early_stopping_rounds=None,\n",
              "                                    enable_categorical=False, eval_metric=None,\n",
              "                                    feature_types=None, gamma=None, gpu_id=None,\n",
              "                                    grow_policy=None, importance_type=None,\n",
              "                                    interaction_constraints=None,\n",
              "                                    learning_rate=None, m...\n",
              "                                    max_cat_threshold=None,\n",
              "                                    max_cat_to_onehot=None, max_delta_step=None,\n",
              "                                    max_depth=None, max_leaves=None,\n",
              "                                    min_child_weight=None, missing=nan,\n",
              "                                    monotone_constraints=None, n_estimators=100,\n",
              "                                    n_jobs=None, num_parallel_tree=None,\n",
              "                                    predictor=None, random_state=None, ...),\n",
              "             param_grid={&#x27;colsample_bytree&#x27;: [0.7], &#x27;eta&#x27;: [0.004, 0.04, 4, 40],\n",
              "                         &#x27;max_depth&#x27;: [7, 9, 11],\n",
              "                         &#x27;min_child_weight&#x27;: [10, 20]},\n",
              "             verbose=1)</pre><b>In a Jupyter environment, please rerun this cell to show the HTML representation or trust the notebook. <br />On GitHub, the HTML representation is unable to render, please try loading this page with nbviewer.org.</b></div><div class=\"sk-container\" hidden><div class=\"sk-item sk-dashed-wrapped\"><div class=\"sk-label-container\"><div class=\"sk-label sk-toggleable\"><input class=\"sk-toggleable__control sk-hidden--visually\" id=\"sk-estimator-id-12\" type=\"checkbox\" ><label for=\"sk-estimator-id-12\" class=\"sk-toggleable__label sk-toggleable__label-arrow\">GridSearchCV</label><div class=\"sk-toggleable__content\"><pre>GridSearchCV(cv=3,\n",
              "             estimator=XGBRegressor(base_score=None, booster=None,\n",
              "                                    callbacks=None, colsample_bylevel=None,\n",
              "                                    colsample_bynode=None,\n",
              "                                    colsample_bytree=None,\n",
              "                                    early_stopping_rounds=None,\n",
              "                                    enable_categorical=False, eval_metric=None,\n",
              "                                    feature_types=None, gamma=None, gpu_id=None,\n",
              "                                    grow_policy=None, importance_type=None,\n",
              "                                    interaction_constraints=None,\n",
              "                                    learning_rate=None, m...\n",
              "                                    max_cat_threshold=None,\n",
              "                                    max_cat_to_onehot=None, max_delta_step=None,\n",
              "                                    max_depth=None, max_leaves=None,\n",
              "                                    min_child_weight=None, missing=nan,\n",
              "                                    monotone_constraints=None, n_estimators=100,\n",
              "                                    n_jobs=None, num_parallel_tree=None,\n",
              "                                    predictor=None, random_state=None, ...),\n",
              "             param_grid={&#x27;colsample_bytree&#x27;: [0.7], &#x27;eta&#x27;: [0.004, 0.04, 4, 40],\n",
              "                         &#x27;max_depth&#x27;: [7, 9, 11],\n",
              "                         &#x27;min_child_weight&#x27;: [10, 20]},\n",
              "             verbose=1)</pre></div></div></div><div class=\"sk-parallel\"><div class=\"sk-parallel-item\"><div class=\"sk-item\"><div class=\"sk-label-container\"><div class=\"sk-label sk-toggleable\"><input class=\"sk-toggleable__control sk-hidden--visually\" id=\"sk-estimator-id-13\" type=\"checkbox\" ><label for=\"sk-estimator-id-13\" class=\"sk-toggleable__label sk-toggleable__label-arrow\">estimator: XGBRegressor</label><div class=\"sk-toggleable__content\"><pre>XGBRegressor(base_score=None, booster=None, callbacks=None,\n",
              "             colsample_bylevel=None, colsample_bynode=None,\n",
              "             colsample_bytree=None, early_stopping_rounds=None,\n",
              "             enable_categorical=False, eval_metric=None, feature_types=None,\n",
              "             gamma=None, gpu_id=None, grow_policy=None, importance_type=None,\n",
              "             interaction_constraints=None, learning_rate=None, max_bin=None,\n",
              "             max_cat_threshold=None, max_cat_to_onehot=None,\n",
              "             max_delta_step=None, max_depth=None, max_leaves=None,\n",
              "             min_child_weight=None, missing=nan, monotone_constraints=None,\n",
              "             n_estimators=100, n_jobs=None, num_parallel_tree=None,\n",
              "             predictor=None, random_state=None, ...)</pre></div></div></div><div class=\"sk-serial\"><div class=\"sk-item\"><div class=\"sk-estimator sk-toggleable\"><input class=\"sk-toggleable__control sk-hidden--visually\" id=\"sk-estimator-id-14\" type=\"checkbox\" ><label for=\"sk-estimator-id-14\" class=\"sk-toggleable__label sk-toggleable__label-arrow\">XGBRegressor</label><div class=\"sk-toggleable__content\"><pre>XGBRegressor(base_score=None, booster=None, callbacks=None,\n",
              "             colsample_bylevel=None, colsample_bynode=None,\n",
              "             colsample_bytree=None, early_stopping_rounds=None,\n",
              "             enable_categorical=False, eval_metric=None, feature_types=None,\n",
              "             gamma=None, gpu_id=None, grow_policy=None, importance_type=None,\n",
              "             interaction_constraints=None, learning_rate=None, max_bin=None,\n",
              "             max_cat_threshold=None, max_cat_to_onehot=None,\n",
              "             max_delta_step=None, max_depth=None, max_leaves=None,\n",
              "             min_child_weight=None, missing=nan, monotone_constraints=None,\n",
              "             n_estimators=100, n_jobs=None, num_parallel_tree=None,\n",
              "             predictor=None, random_state=None, ...)</pre></div></div></div></div></div></div></div></div></div></div>"
            ]
          },
          "metadata": {},
          "execution_count": 187
        }
      ]
    },
    {
      "cell_type": "code",
      "source": [
        "\n",
        "# Best Estimotor parameters"
      ],
      "metadata": {
        "id": "8BIQdt8NaJ2-"
      },
      "execution_count": null,
      "outputs": []
    },
    {
      "cell_type": "code",
      "source": [
        "reg_gs.best_estimator_.get_params()"
      ],
      "metadata": {
        "colab": {
          "base_uri": "https://localhost:8080/"
        },
        "id": "grR_SCEQaLi2",
        "outputId": "4c36b3a3-d828-4b84-8d68-67b02be14337"
      },
      "execution_count": null,
      "outputs": [
        {
          "output_type": "execute_result",
          "data": {
            "text/plain": [
              "{'objective': 'reg:squarederror',\n",
              " 'base_score': None,\n",
              " 'booster': None,\n",
              " 'callbacks': None,\n",
              " 'colsample_bylevel': None,\n",
              " 'colsample_bynode': None,\n",
              " 'colsample_bytree': 0.7,\n",
              " 'early_stopping_rounds': None,\n",
              " 'enable_categorical': False,\n",
              " 'eval_metric': None,\n",
              " 'feature_types': None,\n",
              " 'gamma': None,\n",
              " 'gpu_id': None,\n",
              " 'grow_policy': None,\n",
              " 'importance_type': None,\n",
              " 'interaction_constraints': None,\n",
              " 'learning_rate': None,\n",
              " 'max_bin': None,\n",
              " 'max_cat_threshold': None,\n",
              " 'max_cat_to_onehot': None,\n",
              " 'max_delta_step': None,\n",
              " 'max_depth': 7,\n",
              " 'max_leaves': None,\n",
              " 'min_child_weight': 20,\n",
              " 'missing': nan,\n",
              " 'monotone_constraints': None,\n",
              " 'n_estimators': 100,\n",
              " 'n_jobs': None,\n",
              " 'num_parallel_tree': None,\n",
              " 'predictor': None,\n",
              " 'random_state': None,\n",
              " 'reg_alpha': None,\n",
              " 'reg_lambda': None,\n",
              " 'sampling_method': None,\n",
              " 'scale_pos_weight': None,\n",
              " 'subsample': None,\n",
              " 'tree_method': None,\n",
              " 'validate_parameters': None,\n",
              " 'verbosity': None,\n",
              " 'eta': 0.04}"
            ]
          },
          "metadata": {},
          "execution_count": 189
        }
      ]
    },
    {
      "cell_type": "code",
      "source": [
        "reg_optimal_model =reg_gs.best_estimator_\n",
        "train_preds = reg_optimal_model.predict(X_train)\n",
        "test_preds = reg_optimal_model.predict(X_test)"
      ],
      "metadata": {
        "id": "8rXPL5n6i7UT"
      },
      "execution_count": null,
      "outputs": []
    },
    {
      "cell_type": "code",
      "source": [
        "reg_optimal_model.score(X_train,y_train)\n",
        "reg_optimal_model.score(X_test,y_test)"
      ],
      "metadata": {
        "colab": {
          "base_uri": "https://localhost:8080/"
        },
        "id": "-5Ene15Pi_fb",
        "outputId": "11652872-328d-44e3-e5ef-8595f3ac0595"
      },
      "execution_count": null,
      "outputs": [
        {
          "output_type": "execute_result",
          "data": {
            "text/plain": [
              "0.8586773844998837"
            ]
          },
          "metadata": {},
          "execution_count": 191
        }
      ]
    },
    {
      "cell_type": "code",
      "source": [
        "r2_test = r2_score(y_test, test_preds)\n",
        "adj_r2=1-(1-r2_score(y_test, test_preds))*((X_test.shape[0]-1)/(X_test.shape[0]-X_test.shape[1]-1))"
      ],
      "metadata": {
        "id": "NRRj8y49jBoq"
      },
      "execution_count": null,
      "outputs": []
    },
    {
      "cell_type": "code",
      "source": [
        "# R2 and Adjusted R2 values for GridsearchCV regressor"
      ],
      "metadata": {
        "id": "awl9dWF-jEVt"
      },
      "execution_count": null,
      "outputs": []
    },
    {
      "cell_type": "code",
      "source": [
        "print(r2_test)\n",
        "print(adj_r2)"
      ],
      "metadata": {
        "colab": {
          "base_uri": "https://localhost:8080/"
        },
        "id": "Zy1e2iG4jGba",
        "outputId": "531a4e2d-f90d-43fa-b7cf-2215e702a6f8"
      },
      "execution_count": null,
      "outputs": [
        {
          "output_type": "stream",
          "name": "stdout",
          "text": [
            "0.8586773844998837\n",
            "0.8584992755322152\n"
          ]
        }
      ]
    },
    {
      "cell_type": "code",
      "source": [
        "print('MAE is {}'.format(mean_absolute_error(y_test, test_preds)))"
      ],
      "metadata": {
        "colab": {
          "base_uri": "https://localhost:8080/"
        },
        "id": "4FgLCFv7jH5W",
        "outputId": "65afbba6-a0ec-45ee-cc34-f995794e9a13"
      },
      "execution_count": null,
      "outputs": [
        {
          "output_type": "stream",
          "name": "stdout",
          "text": [
            "MAE is 3.3694923449261154\n"
          ]
        }
      ]
    },
    {
      "cell_type": "code",
      "source": [
        "print('MSE is {}'.format(mean_squared_error(y_test, test_preds)))"
      ],
      "metadata": {
        "colab": {
          "base_uri": "https://localhost:8080/"
        },
        "id": "gDPpSzz3jJoD",
        "outputId": "559dc4e3-f330-4bd3-f5e3-5e1697e2706a"
      },
      "execution_count": null,
      "outputs": [
        {
          "output_type": "stream",
          "name": "stdout",
          "text": [
            "MSE is 21.597941254240215\n"
          ]
        }
      ]
    },
    {
      "cell_type": "code",
      "source": [],
      "metadata": {
        "id": "fW1I2qZfjLso"
      },
      "execution_count": null,
      "outputs": []
    }
  ]
}